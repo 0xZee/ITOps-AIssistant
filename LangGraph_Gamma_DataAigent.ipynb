{
  "nbformat": 4,
  "nbformat_minor": 0,
  "metadata": {
    "colab": {
      "provenance": [],
      "authorship_tag": "ABX9TyPK4oEn3Dtf4qc5ejzwzuTH",
      "include_colab_link": true
    },
    "kernelspec": {
      "name": "python3",
      "display_name": "Python 3"
    },
    "language_info": {
      "name": "python"
    }
  },
  "cells": [
    {
      "cell_type": "markdown",
      "metadata": {
        "id": "view-in-github",
        "colab_type": "text"
      },
      "source": [
        "<a href=\"https://colab.research.google.com/github/0xZee/ITOps-AIssistant/blob/main/LangGraph_Gamma_DataAigent.ipynb\" target=\"_parent\"><img src=\"https://colab.research.google.com/assets/colab-badge.svg\" alt=\"Open In Colab\"/></a>"
      ]
    },
    {
      "cell_type": "markdown",
      "source": [
        "# `Install`"
      ],
      "metadata": {
        "id": "HDwD694zjc2L"
      }
    },
    {
      "cell_type": "code",
      "execution_count": 20,
      "metadata": {
        "id": "BQ2YY7uKjNxB"
      },
      "outputs": [],
      "source": [
        "!pip install -qU langchain-google-genai langgraph langchain-community yfinance pandas\n",
        "!pip install -qU langchain-groq"
      ]
    },
    {
      "cell_type": "markdown",
      "source": [
        "# `DATA` `YFINANCE STOCKS`"
      ],
      "metadata": {
        "id": "J9eN4Kp7jtzS"
      }
    },
    {
      "cell_type": "code",
      "source": [
        "from datetime import datetime\n",
        "import yfinance as yf\n",
        "import pandas as pd\n",
        "import sqlite3\n",
        "\n",
        "\n",
        "def get_stock_data():\n",
        "    \"\"\"Fetches stock data using yfinance and returns a Pandas DataFrame.\"\"\"\n",
        "    # Fetch data for tickers lsit from Yfinance\n",
        "    tickers_list = ['AAPL', 'NVDA', 'MSFT', 'GOOGL', 'AMZN', 'META', 'TSLA', 'AVGO', 'WMT', 'ORCL', 'COST', 'NFLX', 'CRM', 'KO', 'CSCO', 'NOW', 'IBM', 'AMD', 'BABA', 'DIS', 'ADBE', 'GE', 'PLTR', 'QCOM', 'RTX', 'HON', 'NEE', 'ANET', 'SHOP', 'ARM', 'UBER', 'PANW', 'NKE', 'APP', 'BYDDY', 'MU', 'MRVL', 'SPOT', 'INTC', 'CRWD', 'PYPL', 'MSTR', 'FTNT', 'CEG', 'WDAY', 'COIN', 'TTD', 'JD', 'V', 'SNOW', 'DDOG', 'VST', 'NET', 'RDDT', 'ZS', 'IOT', 'ALAB', 'PSTG', 'AFRM', 'GRAB', 'MDB', 'SMCI', 'SOFI', 'NTNX', 'OKTA', 'RIVN', 'RKLB', 'RBRK', 'XPEV', 'MNDY', 'ROKU', 'EXAS', 'PSN', 'IONQ', 'NIO', 'ENPH', 'GTLB', 'AES', 'SOUN', 'S', 'PATH', 'ASTS', 'ACHR', 'LYFT', 'BE', 'BEPC', 'PONY', 'RGTI', 'AI', 'VKTX', 'AVAV', 'BRZE', 'GSAT', 'CRSP', 'OKLO', 'QS', 'KC', 'RXRX', 'QBTS', 'QUBT', 'SMR', 'BEAM', 'APLD', 'TXG', 'LUNR', 'TDOC', 'SDGR', 'FSLY', 'PL', 'TLRY', 'DQ', 'OLO', 'NTLA', 'RDW', 'KULR', 'BBAI', 'NNE', 'RZLV', 'SERV', 'LAES', 'QSI', 'DNA', 'PACB', 'ARQQ', 'CHPT', 'NNOX', 'CGC', 'SPIR', 'BKSY', 'QMCO', 'RR', 'VLN', 'ACB', 'QNCCF', 'EDIT', 'SIDU', 'MDAI']\n",
        "    keys_list = ['symbol', 'shortName', 'country', 'industry', 'sector', 'currentPrice', 'marketCap', 'trailingPE', 'forwardPE', 'priceToSalesTrailing12Months', 'priceToBook', 'debtToEquity','shortRatio', 'enterpriseToRevenue', 'enterpriseToEbitda', 'beta', 'fiftyTwoWeekHigh', 'fiftyTwoWeekLow', 'targetMeanPrice', 'targetHighPrice', 'recommendationKey','returnOnEquity', 'totalRevenue', 'freeCashflow', 'totalDebt', 'earningsGrowth', 'revenueGrowth', 'grossMargins', 'ebitdaMargins', 'operatingMargins', 'profitMargins','trailingPegRatio']\n",
        "    data_list = []\n",
        "\n",
        "    for ticker in tickers_list:\n",
        "        try:\n",
        "            stock = yf.Ticker(ticker)\n",
        "            info = stock.info\n",
        "\n",
        "            stock_dict = {}\n",
        "            for key in keys_list:\n",
        "                stock_dict[key] = info.get(key, None)\n",
        "\n",
        "            data_list.append(stock_dict)\n",
        "\n",
        "        except Exception as e:\n",
        "            print(f\"Error fetching data for {ticker}: {str(e)}\")\n",
        "\n",
        "    # Convert to DataFrame\n",
        "    df = pd.DataFrame(data_list)\n",
        "    return df\n",
        "\n",
        "def save_to_sqlite(df, database_name, table_name):\n",
        "    \"\"\"Saves a Pandas DataFrame to an SQLite database and returns the connection object.\"\"\"\n",
        "    #df = get_stock_data()\n",
        "    #database_name=\"stocks_database.db\"\n",
        "    # Create SQLite connection\n",
        "    conn = sqlite3.connect(database_name)\n",
        "\n",
        "    # Save data to SQLite with timestamp\n",
        "    #table_name = {table_name}_{datetime.now().strftime(\"%Y%m%d_%H%M%S\")}\n",
        "    df.to_sql(table_name, conn, if_exists='replace', index=False)\n",
        "    print(f\"Dataframe saved to SQLite : \\n* Database: {database_name} \\n* Table: {table_name}\\n\")\n",
        "\n",
        "\n",
        "    return conn"
      ],
      "metadata": {
        "id": "I4bmEacHjbQf"
      },
      "execution_count": null,
      "outputs": []
    },
    {
      "cell_type": "code",
      "source": [
        "df = get_stock_data()\n",
        "conn = save_to_sqlite(df)"
      ],
      "metadata": {
        "colab": {
          "base_uri": "https://localhost:8080/"
        },
        "id": "zIvMGnRujbM1",
        "outputId": "ad94ea11-0f46-4f7e-ee83-4a269b2736e2"
      },
      "execution_count": null,
      "outputs": [
        {
          "output_type": "stream",
          "name": "stdout",
          "text": [
            "Dataframe saved to SQLite : \n",
            "* Database: stocks_database.db \n",
            "* Table: stocks_20250322\n",
            "\n"
          ]
        }
      ]
    },
    {
      "cell_type": "code",
      "source": [
        "df.head(1)"
      ],
      "metadata": {
        "colab": {
          "base_uri": "https://localhost:8080/",
          "height": 188
        },
        "id": "aQwmLxk8yprd",
        "outputId": "be9b49f8-230f-453b-878b-327e440198ec"
      },
      "execution_count": null,
      "outputs": [
        {
          "output_type": "execute_result",
          "data": {
            "text/plain": [
              "  operation_id                                               text  \\\n",
              "0      MEP_206  Installation d'un nouveau cluster de bases de ...   \n",
              "\n",
              "  operation_date  operation_h_duration operation_application operation_leader  \\\n",
              "0     2024-07-12                   7.0        App_accounting           0x Zee   \n",
              "\n",
              "  operation_project operation_techno operation_title operation_status  \n",
              "0             [MCO]             [DB]   DB Cluster HA               KO  "
            ],
            "text/html": [
              "\n",
              "  <div id=\"df-daaa615e-c185-4d48-b470-9bd41671780c\" class=\"colab-df-container\">\n",
              "    <div>\n",
              "<style scoped>\n",
              "    .dataframe tbody tr th:only-of-type {\n",
              "        vertical-align: middle;\n",
              "    }\n",
              "\n",
              "    .dataframe tbody tr th {\n",
              "        vertical-align: top;\n",
              "    }\n",
              "\n",
              "    .dataframe thead th {\n",
              "        text-align: right;\n",
              "    }\n",
              "</style>\n",
              "<table border=\"1\" class=\"dataframe\">\n",
              "  <thead>\n",
              "    <tr style=\"text-align: right;\">\n",
              "      <th></th>\n",
              "      <th>operation_id</th>\n",
              "      <th>text</th>\n",
              "      <th>operation_date</th>\n",
              "      <th>operation_h_duration</th>\n",
              "      <th>operation_application</th>\n",
              "      <th>operation_leader</th>\n",
              "      <th>operation_project</th>\n",
              "      <th>operation_techno</th>\n",
              "      <th>operation_title</th>\n",
              "      <th>operation_status</th>\n",
              "    </tr>\n",
              "  </thead>\n",
              "  <tbody>\n",
              "    <tr>\n",
              "      <th>0</th>\n",
              "      <td>MEP_206</td>\n",
              "      <td>Installation d'un nouveau cluster de bases de ...</td>\n",
              "      <td>2024-07-12</td>\n",
              "      <td>7.0</td>\n",
              "      <td>App_accounting</td>\n",
              "      <td>0x Zee</td>\n",
              "      <td>[MCO]</td>\n",
              "      <td>[DB]</td>\n",
              "      <td>DB Cluster HA</td>\n",
              "      <td>KO</td>\n",
              "    </tr>\n",
              "  </tbody>\n",
              "</table>\n",
              "</div>\n",
              "    <div class=\"colab-df-buttons\">\n",
              "\n",
              "  <div class=\"colab-df-container\">\n",
              "    <button class=\"colab-df-convert\" onclick=\"convertToInteractive('df-daaa615e-c185-4d48-b470-9bd41671780c')\"\n",
              "            title=\"Convert this dataframe to an interactive table.\"\n",
              "            style=\"display:none;\">\n",
              "\n",
              "  <svg xmlns=\"http://www.w3.org/2000/svg\" height=\"24px\" viewBox=\"0 -960 960 960\">\n",
              "    <path d=\"M120-120v-720h720v720H120Zm60-500h600v-160H180v160Zm220 220h160v-160H400v160Zm0 220h160v-160H400v160ZM180-400h160v-160H180v160Zm440 0h160v-160H620v160ZM180-180h160v-160H180v160Zm440 0h160v-160H620v160Z\"/>\n",
              "  </svg>\n",
              "    </button>\n",
              "\n",
              "  <style>\n",
              "    .colab-df-container {\n",
              "      display:flex;\n",
              "      gap: 12px;\n",
              "    }\n",
              "\n",
              "    .colab-df-convert {\n",
              "      background-color: #E8F0FE;\n",
              "      border: none;\n",
              "      border-radius: 50%;\n",
              "      cursor: pointer;\n",
              "      display: none;\n",
              "      fill: #1967D2;\n",
              "      height: 32px;\n",
              "      padding: 0 0 0 0;\n",
              "      width: 32px;\n",
              "    }\n",
              "\n",
              "    .colab-df-convert:hover {\n",
              "      background-color: #E2EBFA;\n",
              "      box-shadow: 0px 1px 2px rgba(60, 64, 67, 0.3), 0px 1px 3px 1px rgba(60, 64, 67, 0.15);\n",
              "      fill: #174EA6;\n",
              "    }\n",
              "\n",
              "    .colab-df-buttons div {\n",
              "      margin-bottom: 4px;\n",
              "    }\n",
              "\n",
              "    [theme=dark] .colab-df-convert {\n",
              "      background-color: #3B4455;\n",
              "      fill: #D2E3FC;\n",
              "    }\n",
              "\n",
              "    [theme=dark] .colab-df-convert:hover {\n",
              "      background-color: #434B5C;\n",
              "      box-shadow: 0px 1px 3px 1px rgba(0, 0, 0, 0.15);\n",
              "      filter: drop-shadow(0px 1px 2px rgba(0, 0, 0, 0.3));\n",
              "      fill: #FFFFFF;\n",
              "    }\n",
              "  </style>\n",
              "\n",
              "    <script>\n",
              "      const buttonEl =\n",
              "        document.querySelector('#df-daaa615e-c185-4d48-b470-9bd41671780c button.colab-df-convert');\n",
              "      buttonEl.style.display =\n",
              "        google.colab.kernel.accessAllowed ? 'block' : 'none';\n",
              "\n",
              "      async function convertToInteractive(key) {\n",
              "        const element = document.querySelector('#df-daaa615e-c185-4d48-b470-9bd41671780c');\n",
              "        const dataTable =\n",
              "          await google.colab.kernel.invokeFunction('convertToInteractive',\n",
              "                                                    [key], {});\n",
              "        if (!dataTable) return;\n",
              "\n",
              "        const docLinkHtml = 'Like what you see? Visit the ' +\n",
              "          '<a target=\"_blank\" href=https://colab.research.google.com/notebooks/data_table.ipynb>data table notebook</a>'\n",
              "          + ' to learn more about interactive tables.';\n",
              "        element.innerHTML = '';\n",
              "        dataTable['output_type'] = 'display_data';\n",
              "        await google.colab.output.renderOutput(dataTable, element);\n",
              "        const docLink = document.createElement('div');\n",
              "        docLink.innerHTML = docLinkHtml;\n",
              "        element.appendChild(docLink);\n",
              "      }\n",
              "    </script>\n",
              "  </div>\n",
              "\n",
              "\n",
              "    </div>\n",
              "  </div>\n"
            ],
            "application/vnd.google.colaboratory.intrinsic+json": {
              "type": "dataframe",
              "variable_name": "df",
              "summary": "{\n  \"name\": \"df\",\n  \"rows\": 107,\n  \"fields\": [\n    {\n      \"column\": \"operation_id\",\n      \"properties\": {\n        \"dtype\": \"string\",\n        \"num_unique_values\": 107,\n        \"samples\": [\n          \"MEP_119\",\n          \"MEP_251\",\n          \"MEP_266\"\n        ],\n        \"semantic_type\": \"\",\n        \"description\": \"\"\n      }\n    },\n    {\n      \"column\": \"text\",\n      \"properties\": {\n        \"dtype\": \"string\",\n        \"num_unique_values\": 107,\n        \"samples\": [\n          \"Mise en place d'une nouvelle pipeline DevOps pour le d\\u00e9ploiement continu. Cette op\\u00e9ration inclut l'int\\u00e9gration des tests automatis\\u00e9s.\",\n          \"Mise en place d'une nouvelle architecture de routage dynamique. Le projet comprend l'impl\\u00e9mentation des protocoles BGP et OSPF avanc\\u00e9s.\",\n          \"Installation d'un nouveau cluster Kubernetes pour les applications critiques. Cette intervention inclut la mise en place de la haute disponibilit\\u00e9 et du monitoring.\"\n        ],\n        \"semantic_type\": \"\",\n        \"description\": \"\"\n      }\n    },\n    {\n      \"column\": \"operation_date\",\n      \"properties\": {\n        \"dtype\": \"date\",\n        \"min\": \"2024-01-10 00:00:00\",\n        \"max\": \"2024-12-28 00:00:00\",\n        \"num_unique_values\": 79,\n        \"samples\": [\n          \"2024-04-12 00:00:00\",\n          \"2024-07-12 00:00:00\",\n          \"2024-04-20 00:00:00\"\n        ],\n        \"semantic_type\": \"\",\n        \"description\": \"\"\n      }\n    },\n    {\n      \"column\": \"operation_h_duration\",\n      \"properties\": {\n        \"dtype\": \"number\",\n        \"std\": 1.506817517204194,\n        \"min\": 3.0,\n        \"max\": 10.0,\n        \"num_unique_values\": 8,\n        \"samples\": [\n          5.0,\n          9.0,\n          7.0\n        ],\n        \"semantic_type\": \"\",\n        \"description\": \"\"\n      }\n    },\n    {\n      \"column\": \"operation_application\",\n      \"properties\": {\n        \"dtype\": \"category\",\n        \"num_unique_values\": 10,\n        \"samples\": [\n          \"App_billings\",\n          \"App_jupiter\",\n          \"App_customers\"\n        ],\n        \"semantic_type\": \"\",\n        \"description\": \"\"\n      }\n    },\n    {\n      \"column\": \"operation_leader\",\n      \"properties\": {\n        \"dtype\": \"category\",\n        \"num_unique_values\": 5,\n        \"samples\": [\n          \"John Doe\",\n          \"Jean-claude Convenant\",\n          \"Herve Dumont\"\n        ],\n        \"semantic_type\": \"\",\n        \"description\": \"\"\n      }\n    },\n    {\n      \"column\": \"operation_project\",\n      \"properties\": {\n        \"dtype\": \"category\",\n        \"num_unique_values\": 3,\n        \"samples\": [\n          \"[MCO]\",\n          \"[RESEAU]\",\n          \"[SYSTEME]\"\n        ],\n        \"semantic_type\": \"\",\n        \"description\": \"\"\n      }\n    },\n    {\n      \"column\": \"operation_techno\",\n      \"properties\": {\n        \"dtype\": \"category\",\n        \"num_unique_values\": 14,\n        \"samples\": [\n          \"[DATACENTER]\",\n          \"[DEVOPS]\",\n          \"[DB]\"\n        ],\n        \"semantic_type\": \"\",\n        \"description\": \"\"\n      }\n    },\n    {\n      \"column\": \"operation_title\",\n      \"properties\": {\n        \"dtype\": \"string\",\n        \"num_unique_values\": 106,\n        \"samples\": [\n          \"Migration VMware Apps\",\n          \"Routage Dynamique V2\",\n          \"K8S Critical Apps\"\n        ],\n        \"semantic_type\": \"\",\n        \"description\": \"\"\n      }\n    },\n    {\n      \"column\": \"operation_status\",\n      \"properties\": {\n        \"dtype\": \"category\",\n        \"num_unique_values\": 2,\n        \"samples\": [\n          \"OK\",\n          \"KO\"\n        ],\n        \"semantic_type\": \"\",\n        \"description\": \"\"\n      }\n    }\n  ]\n}"
            }
          },
          "metadata": {},
          "execution_count": 102
        }
      ]
    },
    {
      "cell_type": "markdown",
      "source": [
        "# `Data ITOPS MEPs`"
      ],
      "metadata": {
        "id": "5KDZwnbQfVAY"
      }
    },
    {
      "cell_type": "code",
      "source": [
        "import pandas as pd\n",
        "\n",
        "# Login using e.g. `huggingface-cli login` to access this dataset\n",
        "df = pd.read_parquet(\"hf://datasets/0xZee/it_ops_dataset/data/train-00000-of-00001.parquet\")\n",
        "df.head(3)"
      ],
      "metadata": {
        "colab": {
          "base_uri": "https://localhost:8080/",
          "height": 320
        },
        "id": "wjVpJbl9fZjh",
        "outputId": "c6c1d409-f69a-4e74-8f32-e3a5e59c95a3"
      },
      "execution_count": null,
      "outputs": [
        {
          "output_type": "execute_result",
          "data": {
            "text/plain": [
              "  operation_id                                               text  \\\n",
              "0      MEP_206  Installation d'un nouveau cluster de bases de ...   \n",
              "1      MEP_007  Migration du système DNS vers une architecture...   \n",
              "2      MEP_261  Migration de l'infrastructure DNS vers une sol...   \n",
              "\n",
              "  operation_date  operation_h_duration operation_application operation_leader  \\\n",
              "0     2024-07-12                   7.0        App_accounting           0x Zee   \n",
              "1     2024-06-14                   5.0           App_jupiter           0x Zee   \n",
              "2     2024-10-20                   5.0            App_market           0x Zee   \n",
              "\n",
              "  operation_project operation_techno          operation_title operation_status  \n",
              "0             [MCO]             [DB]            DB Cluster HA               KO  \n",
              "1          [RESEAU]            [DNS]  Migration DNS redundant               OK  \n",
              "2             [MCO]            [DNS]         DNS Cloud Native               OK  "
            ],
            "text/html": [
              "\n",
              "  <div id=\"df-8d3a7d8d-501b-498a-a6d3-37b6b96b789f\" class=\"colab-df-container\">\n",
              "    <div>\n",
              "<style scoped>\n",
              "    .dataframe tbody tr th:only-of-type {\n",
              "        vertical-align: middle;\n",
              "    }\n",
              "\n",
              "    .dataframe tbody tr th {\n",
              "        vertical-align: top;\n",
              "    }\n",
              "\n",
              "    .dataframe thead th {\n",
              "        text-align: right;\n",
              "    }\n",
              "</style>\n",
              "<table border=\"1\" class=\"dataframe\">\n",
              "  <thead>\n",
              "    <tr style=\"text-align: right;\">\n",
              "      <th></th>\n",
              "      <th>operation_id</th>\n",
              "      <th>text</th>\n",
              "      <th>operation_date</th>\n",
              "      <th>operation_h_duration</th>\n",
              "      <th>operation_application</th>\n",
              "      <th>operation_leader</th>\n",
              "      <th>operation_project</th>\n",
              "      <th>operation_techno</th>\n",
              "      <th>operation_title</th>\n",
              "      <th>operation_status</th>\n",
              "    </tr>\n",
              "  </thead>\n",
              "  <tbody>\n",
              "    <tr>\n",
              "      <th>0</th>\n",
              "      <td>MEP_206</td>\n",
              "      <td>Installation d'un nouveau cluster de bases de ...</td>\n",
              "      <td>2024-07-12</td>\n",
              "      <td>7.0</td>\n",
              "      <td>App_accounting</td>\n",
              "      <td>0x Zee</td>\n",
              "      <td>[MCO]</td>\n",
              "      <td>[DB]</td>\n",
              "      <td>DB Cluster HA</td>\n",
              "      <td>KO</td>\n",
              "    </tr>\n",
              "    <tr>\n",
              "      <th>1</th>\n",
              "      <td>MEP_007</td>\n",
              "      <td>Migration du système DNS vers une architecture...</td>\n",
              "      <td>2024-06-14</td>\n",
              "      <td>5.0</td>\n",
              "      <td>App_jupiter</td>\n",
              "      <td>0x Zee</td>\n",
              "      <td>[RESEAU]</td>\n",
              "      <td>[DNS]</td>\n",
              "      <td>Migration DNS redundant</td>\n",
              "      <td>OK</td>\n",
              "    </tr>\n",
              "    <tr>\n",
              "      <th>2</th>\n",
              "      <td>MEP_261</td>\n",
              "      <td>Migration de l'infrastructure DNS vers une sol...</td>\n",
              "      <td>2024-10-20</td>\n",
              "      <td>5.0</td>\n",
              "      <td>App_market</td>\n",
              "      <td>0x Zee</td>\n",
              "      <td>[MCO]</td>\n",
              "      <td>[DNS]</td>\n",
              "      <td>DNS Cloud Native</td>\n",
              "      <td>OK</td>\n",
              "    </tr>\n",
              "  </tbody>\n",
              "</table>\n",
              "</div>\n",
              "    <div class=\"colab-df-buttons\">\n",
              "\n",
              "  <div class=\"colab-df-container\">\n",
              "    <button class=\"colab-df-convert\" onclick=\"convertToInteractive('df-8d3a7d8d-501b-498a-a6d3-37b6b96b789f')\"\n",
              "            title=\"Convert this dataframe to an interactive table.\"\n",
              "            style=\"display:none;\">\n",
              "\n",
              "  <svg xmlns=\"http://www.w3.org/2000/svg\" height=\"24px\" viewBox=\"0 -960 960 960\">\n",
              "    <path d=\"M120-120v-720h720v720H120Zm60-500h600v-160H180v160Zm220 220h160v-160H400v160Zm0 220h160v-160H400v160ZM180-400h160v-160H180v160Zm440 0h160v-160H620v160ZM180-180h160v-160H180v160Zm440 0h160v-160H620v160Z\"/>\n",
              "  </svg>\n",
              "    </button>\n",
              "\n",
              "  <style>\n",
              "    .colab-df-container {\n",
              "      display:flex;\n",
              "      gap: 12px;\n",
              "    }\n",
              "\n",
              "    .colab-df-convert {\n",
              "      background-color: #E8F0FE;\n",
              "      border: none;\n",
              "      border-radius: 50%;\n",
              "      cursor: pointer;\n",
              "      display: none;\n",
              "      fill: #1967D2;\n",
              "      height: 32px;\n",
              "      padding: 0 0 0 0;\n",
              "      width: 32px;\n",
              "    }\n",
              "\n",
              "    .colab-df-convert:hover {\n",
              "      background-color: #E2EBFA;\n",
              "      box-shadow: 0px 1px 2px rgba(60, 64, 67, 0.3), 0px 1px 3px 1px rgba(60, 64, 67, 0.15);\n",
              "      fill: #174EA6;\n",
              "    }\n",
              "\n",
              "    .colab-df-buttons div {\n",
              "      margin-bottom: 4px;\n",
              "    }\n",
              "\n",
              "    [theme=dark] .colab-df-convert {\n",
              "      background-color: #3B4455;\n",
              "      fill: #D2E3FC;\n",
              "    }\n",
              "\n",
              "    [theme=dark] .colab-df-convert:hover {\n",
              "      background-color: #434B5C;\n",
              "      box-shadow: 0px 1px 3px 1px rgba(0, 0, 0, 0.15);\n",
              "      filter: drop-shadow(0px 1px 2px rgba(0, 0, 0, 0.3));\n",
              "      fill: #FFFFFF;\n",
              "    }\n",
              "  </style>\n",
              "\n",
              "    <script>\n",
              "      const buttonEl =\n",
              "        document.querySelector('#df-8d3a7d8d-501b-498a-a6d3-37b6b96b789f button.colab-df-convert');\n",
              "      buttonEl.style.display =\n",
              "        google.colab.kernel.accessAllowed ? 'block' : 'none';\n",
              "\n",
              "      async function convertToInteractive(key) {\n",
              "        const element = document.querySelector('#df-8d3a7d8d-501b-498a-a6d3-37b6b96b789f');\n",
              "        const dataTable =\n",
              "          await google.colab.kernel.invokeFunction('convertToInteractive',\n",
              "                                                    [key], {});\n",
              "        if (!dataTable) return;\n",
              "\n",
              "        const docLinkHtml = 'Like what you see? Visit the ' +\n",
              "          '<a target=\"_blank\" href=https://colab.research.google.com/notebooks/data_table.ipynb>data table notebook</a>'\n",
              "          + ' to learn more about interactive tables.';\n",
              "        element.innerHTML = '';\n",
              "        dataTable['output_type'] = 'display_data';\n",
              "        await google.colab.output.renderOutput(dataTable, element);\n",
              "        const docLink = document.createElement('div');\n",
              "        docLink.innerHTML = docLinkHtml;\n",
              "        element.appendChild(docLink);\n",
              "      }\n",
              "    </script>\n",
              "  </div>\n",
              "\n",
              "\n",
              "<div id=\"df-33d48973-bdf6-4e7f-9e1f-5e15ccd22041\">\n",
              "  <button class=\"colab-df-quickchart\" onclick=\"quickchart('df-33d48973-bdf6-4e7f-9e1f-5e15ccd22041')\"\n",
              "            title=\"Suggest charts\"\n",
              "            style=\"display:none;\">\n",
              "\n",
              "<svg xmlns=\"http://www.w3.org/2000/svg\" height=\"24px\"viewBox=\"0 0 24 24\"\n",
              "     width=\"24px\">\n",
              "    <g>\n",
              "        <path d=\"M19 3H5c-1.1 0-2 .9-2 2v14c0 1.1.9 2 2 2h14c1.1 0 2-.9 2-2V5c0-1.1-.9-2-2-2zM9 17H7v-7h2v7zm4 0h-2V7h2v10zm4 0h-2v-4h2v4z\"/>\n",
              "    </g>\n",
              "</svg>\n",
              "  </button>\n",
              "\n",
              "<style>\n",
              "  .colab-df-quickchart {\n",
              "      --bg-color: #E8F0FE;\n",
              "      --fill-color: #1967D2;\n",
              "      --hover-bg-color: #E2EBFA;\n",
              "      --hover-fill-color: #174EA6;\n",
              "      --disabled-fill-color: #AAA;\n",
              "      --disabled-bg-color: #DDD;\n",
              "  }\n",
              "\n",
              "  [theme=dark] .colab-df-quickchart {\n",
              "      --bg-color: #3B4455;\n",
              "      --fill-color: #D2E3FC;\n",
              "      --hover-bg-color: #434B5C;\n",
              "      --hover-fill-color: #FFFFFF;\n",
              "      --disabled-bg-color: #3B4455;\n",
              "      --disabled-fill-color: #666;\n",
              "  }\n",
              "\n",
              "  .colab-df-quickchart {\n",
              "    background-color: var(--bg-color);\n",
              "    border: none;\n",
              "    border-radius: 50%;\n",
              "    cursor: pointer;\n",
              "    display: none;\n",
              "    fill: var(--fill-color);\n",
              "    height: 32px;\n",
              "    padding: 0;\n",
              "    width: 32px;\n",
              "  }\n",
              "\n",
              "  .colab-df-quickchart:hover {\n",
              "    background-color: var(--hover-bg-color);\n",
              "    box-shadow: 0 1px 2px rgba(60, 64, 67, 0.3), 0 1px 3px 1px rgba(60, 64, 67, 0.15);\n",
              "    fill: var(--button-hover-fill-color);\n",
              "  }\n",
              "\n",
              "  .colab-df-quickchart-complete:disabled,\n",
              "  .colab-df-quickchart-complete:disabled:hover {\n",
              "    background-color: var(--disabled-bg-color);\n",
              "    fill: var(--disabled-fill-color);\n",
              "    box-shadow: none;\n",
              "  }\n",
              "\n",
              "  .colab-df-spinner {\n",
              "    border: 2px solid var(--fill-color);\n",
              "    border-color: transparent;\n",
              "    border-bottom-color: var(--fill-color);\n",
              "    animation:\n",
              "      spin 1s steps(1) infinite;\n",
              "  }\n",
              "\n",
              "  @keyframes spin {\n",
              "    0% {\n",
              "      border-color: transparent;\n",
              "      border-bottom-color: var(--fill-color);\n",
              "      border-left-color: var(--fill-color);\n",
              "    }\n",
              "    20% {\n",
              "      border-color: transparent;\n",
              "      border-left-color: var(--fill-color);\n",
              "      border-top-color: var(--fill-color);\n",
              "    }\n",
              "    30% {\n",
              "      border-color: transparent;\n",
              "      border-left-color: var(--fill-color);\n",
              "      border-top-color: var(--fill-color);\n",
              "      border-right-color: var(--fill-color);\n",
              "    }\n",
              "    40% {\n",
              "      border-color: transparent;\n",
              "      border-right-color: var(--fill-color);\n",
              "      border-top-color: var(--fill-color);\n",
              "    }\n",
              "    60% {\n",
              "      border-color: transparent;\n",
              "      border-right-color: var(--fill-color);\n",
              "    }\n",
              "    80% {\n",
              "      border-color: transparent;\n",
              "      border-right-color: var(--fill-color);\n",
              "      border-bottom-color: var(--fill-color);\n",
              "    }\n",
              "    90% {\n",
              "      border-color: transparent;\n",
              "      border-bottom-color: var(--fill-color);\n",
              "    }\n",
              "  }\n",
              "</style>\n",
              "\n",
              "  <script>\n",
              "    async function quickchart(key) {\n",
              "      const quickchartButtonEl =\n",
              "        document.querySelector('#' + key + ' button');\n",
              "      quickchartButtonEl.disabled = true;  // To prevent multiple clicks.\n",
              "      quickchartButtonEl.classList.add('colab-df-spinner');\n",
              "      try {\n",
              "        const charts = await google.colab.kernel.invokeFunction(\n",
              "            'suggestCharts', [key], {});\n",
              "      } catch (error) {\n",
              "        console.error('Error during call to suggestCharts:', error);\n",
              "      }\n",
              "      quickchartButtonEl.classList.remove('colab-df-spinner');\n",
              "      quickchartButtonEl.classList.add('colab-df-quickchart-complete');\n",
              "    }\n",
              "    (() => {\n",
              "      let quickchartButtonEl =\n",
              "        document.querySelector('#df-33d48973-bdf6-4e7f-9e1f-5e15ccd22041 button');\n",
              "      quickchartButtonEl.style.display =\n",
              "        google.colab.kernel.accessAllowed ? 'block' : 'none';\n",
              "    })();\n",
              "  </script>\n",
              "</div>\n",
              "\n",
              "    </div>\n",
              "  </div>\n"
            ],
            "application/vnd.google.colaboratory.intrinsic+json": {
              "type": "dataframe",
              "variable_name": "df",
              "summary": "{\n  \"name\": \"df\",\n  \"rows\": 107,\n  \"fields\": [\n    {\n      \"column\": \"operation_id\",\n      \"properties\": {\n        \"dtype\": \"string\",\n        \"num_unique_values\": 107,\n        \"samples\": [\n          \"MEP_119\",\n          \"MEP_251\",\n          \"MEP_266\"\n        ],\n        \"semantic_type\": \"\",\n        \"description\": \"\"\n      }\n    },\n    {\n      \"column\": \"text\",\n      \"properties\": {\n        \"dtype\": \"string\",\n        \"num_unique_values\": 107,\n        \"samples\": [\n          \"Mise en place d'une nouvelle pipeline DevOps pour le d\\u00e9ploiement continu. Cette op\\u00e9ration inclut l'int\\u00e9gration des tests automatis\\u00e9s.\",\n          \"Mise en place d'une nouvelle architecture de routage dynamique. Le projet comprend l'impl\\u00e9mentation des protocoles BGP et OSPF avanc\\u00e9s.\",\n          \"Installation d'un nouveau cluster Kubernetes pour les applications critiques. Cette intervention inclut la mise en place de la haute disponibilit\\u00e9 et du monitoring.\"\n        ],\n        \"semantic_type\": \"\",\n        \"description\": \"\"\n      }\n    },\n    {\n      \"column\": \"operation_date\",\n      \"properties\": {\n        \"dtype\": \"date\",\n        \"min\": \"2024-01-10 00:00:00\",\n        \"max\": \"2024-12-28 00:00:00\",\n        \"num_unique_values\": 79,\n        \"samples\": [\n          \"2024-04-12 00:00:00\",\n          \"2024-07-12 00:00:00\",\n          \"2024-04-20 00:00:00\"\n        ],\n        \"semantic_type\": \"\",\n        \"description\": \"\"\n      }\n    },\n    {\n      \"column\": \"operation_h_duration\",\n      \"properties\": {\n        \"dtype\": \"number\",\n        \"std\": 1.506817517204194,\n        \"min\": 3.0,\n        \"max\": 10.0,\n        \"num_unique_values\": 8,\n        \"samples\": [\n          5.0,\n          9.0,\n          7.0\n        ],\n        \"semantic_type\": \"\",\n        \"description\": \"\"\n      }\n    },\n    {\n      \"column\": \"operation_application\",\n      \"properties\": {\n        \"dtype\": \"category\",\n        \"num_unique_values\": 10,\n        \"samples\": [\n          \"App_billings\",\n          \"App_jupiter\",\n          \"App_customers\"\n        ],\n        \"semantic_type\": \"\",\n        \"description\": \"\"\n      }\n    },\n    {\n      \"column\": \"operation_leader\",\n      \"properties\": {\n        \"dtype\": \"category\",\n        \"num_unique_values\": 5,\n        \"samples\": [\n          \"John Doe\",\n          \"Jean-claude Convenant\",\n          \"Herve Dumont\"\n        ],\n        \"semantic_type\": \"\",\n        \"description\": \"\"\n      }\n    },\n    {\n      \"column\": \"operation_project\",\n      \"properties\": {\n        \"dtype\": \"category\",\n        \"num_unique_values\": 3,\n        \"samples\": [\n          \"[MCO]\",\n          \"[RESEAU]\",\n          \"[SYSTEME]\"\n        ],\n        \"semantic_type\": \"\",\n        \"description\": \"\"\n      }\n    },\n    {\n      \"column\": \"operation_techno\",\n      \"properties\": {\n        \"dtype\": \"category\",\n        \"num_unique_values\": 14,\n        \"samples\": [\n          \"[DATACENTER]\",\n          \"[DEVOPS]\",\n          \"[DB]\"\n        ],\n        \"semantic_type\": \"\",\n        \"description\": \"\"\n      }\n    },\n    {\n      \"column\": \"operation_title\",\n      \"properties\": {\n        \"dtype\": \"string\",\n        \"num_unique_values\": 106,\n        \"samples\": [\n          \"Migration VMware Apps\",\n          \"Routage Dynamique V2\",\n          \"K8S Critical Apps\"\n        ],\n        \"semantic_type\": \"\",\n        \"description\": \"\"\n      }\n    },\n    {\n      \"column\": \"operation_status\",\n      \"properties\": {\n        \"dtype\": \"category\",\n        \"num_unique_values\": 2,\n        \"samples\": [\n          \"OK\",\n          \"KO\"\n        ],\n        \"semantic_type\": \"\",\n        \"description\": \"\"\n      }\n    }\n  ]\n}"
            }
          },
          "metadata": {},
          "execution_count": 3
        }
      ]
    },
    {
      "cell_type": "code",
      "source": [
        "import sqlite3\n",
        "\n",
        "def itops_to_sqlite():\n",
        "  database_name=\"itops.db\"\n",
        "  table_name=\"itops_table\"\n",
        "  df = pd.read_parquet(\"hf://datasets/0xZee/it_ops_dataset/data/train-00000-of-00001.parquet\")\n",
        "  conn = sqlite3.connect(database_name)\n",
        "  df.to_sql(table_name, conn, if_exists='replace', index=False)\n",
        "  print(f\"Dataframe saved to SQLite : \\n* Database: {database_name}\\n* Table: {table_name}\\n\")\n",
        "  return conn\n",
        "\n",
        "database_name=\"itops.db\"\n",
        "table_name=\"itops_table\"\n",
        "conn = itops_to_sqlite()"
      ],
      "metadata": {
        "colab": {
          "base_uri": "https://localhost:8080/"
        },
        "id": "-FbW6Vg8cyaJ",
        "outputId": "e02d702e-9d3e-43d0-daae-ec21c0dfd2f9"
      },
      "execution_count": null,
      "outputs": [
        {
          "output_type": "stream",
          "name": "stdout",
          "text": [
            "Dataframe saved to SQLite : \n",
            "* Database: itops.db\n",
            "* Table: itops_table\n",
            "\n"
          ]
        }
      ]
    },
    {
      "cell_type": "code",
      "source": [
        "import sqlite3\n",
        "\n",
        "def delete_table_sqlite(db_name, table_name):\n",
        "    try:\n",
        "        # Connect to SQLite database\n",
        "        conn = sqlite3.connect(db_name)\n",
        "        cursor = conn.cursor()\n",
        "\n",
        "        # Execute DROP TABLE command\n",
        "        cursor.execute(f\"DROP TABLE IF EXISTS {table_name}\")\n",
        "\n",
        "        # Commit the changes\n",
        "        conn.commit()\n",
        "        print(f\"Table {table_name} deleted successfully\")\n",
        "\n",
        "    except sqlite3.Error as error:\n",
        "        print(f\"Error deleting table: {error}\")\n",
        "\n",
        "    finally:\n",
        "        # Close the connection\n",
        "        if conn:\n",
        "            conn.close()\n",
        "\n",
        "# Example usage\n",
        "delete_table_sqlite(\"it_ops_dataset.db\", \"stocks_20250322\")"
      ],
      "metadata": {
        "colab": {
          "base_uri": "https://localhost:8080/"
        },
        "id": "OmM2thb9iXf6",
        "outputId": "85a7144b-6a07-4624-a73c-a9ceaf14bbcc"
      },
      "execution_count": null,
      "outputs": [
        {
          "output_type": "stream",
          "name": "stdout",
          "text": [
            "Table stocks_20250322 deleted successfully\n"
          ]
        }
      ]
    },
    {
      "cell_type": "markdown",
      "source": [
        "# `Process DATA Class`"
      ],
      "metadata": {
        "id": "ezJIi5mSWkRL"
      }
    },
    {
      "cell_type": "code",
      "source": [
        "import pandas as pd\n",
        "#import pymongo\n",
        "#import psycopg2\n",
        "import sqlite3\n",
        "#from datasets import load_dataset\n",
        "\n",
        "\n",
        "\n",
        "class DataProcess:\n",
        "  def __init__(self, database_name=\"itops.db\", table_name=\"itops_table\"):\n",
        "  #def __init__(self, mongodb_uri, postgres_uri, sqlite_uri, hf_dataset_name):\n",
        "      #self.mongodb_uri = mongodb_uri\n",
        "      #self.postgres_uri = postgres_uri\n",
        "      #self.sqlite_uri = sqlite_uri\n",
        "      #self.hf_dataset_name = hf_dataset_name\n",
        "      self.get_dataset()\n",
        "      self.database_name = database_name\n",
        "      self.table_name = table_name\n",
        "\n",
        "\n",
        "  def get_dataset(self):\n",
        "    df = pd.read_parquet(\"hf://datasets/0xZee/it_ops_dataset/data/train-00000-of-00001.parquet\")\n",
        "    return df\n",
        "\n",
        "  def itops_sqlite_conn(self):\n",
        "    #database_name=\"itops.db\"\n",
        "    #table_name=\"itops_table\"\n",
        "    df = self.get_dataset()\n",
        "    conn = sqlite3.connect(self.database_name)\n",
        "    df.to_sql(self.table_name, conn, if_exists='replace', index=False)\n",
        "    print(f\"Dataframe saved to SQLite : \\n* Database: {self.database_name}\\n* Table: {self.table_name}\\n\")\n",
        "    print(f\"SQLite URI : \\n* sqlite:///{self.database_name}\")\n",
        "    return conn"
      ],
      "metadata": {
        "id": "lS88uDH5WtQp"
      },
      "execution_count": 32,
      "outputs": []
    },
    {
      "cell_type": "code",
      "source": [
        "dp = DataProcess()\n",
        "dp.itops_sqlite_conn()"
      ],
      "metadata": {
        "colab": {
          "base_uri": "https://localhost:8080/"
        },
        "id": "Xu9Y2HABZGuE",
        "outputId": "43b51144-4b54-43ff-d5bd-b82caaabc599"
      },
      "execution_count": 33,
      "outputs": [
        {
          "output_type": "stream",
          "name": "stdout",
          "text": [
            "Dataframe saved to SQLite : \n",
            "* Database: itops.db\n",
            "* Table: itops_table\n",
            "\n",
            "SQLite URI : \n",
            "* sqlite:///itops.db\n"
          ]
        },
        {
          "output_type": "execute_result",
          "data": {
            "text/plain": [
              "<sqlite3.Connection at 0x7a9f7a59a7a0>"
            ]
          },
          "metadata": {},
          "execution_count": 33
        }
      ]
    },
    {
      "cell_type": "markdown",
      "source": [
        "# `Param. Keys`"
      ],
      "metadata": {
        "id": "_VGyOe6VkNs9"
      }
    },
    {
      "cell_type": "code",
      "source": [
        "from google.colab import userdata\n",
        "\n",
        "GEMINI_DEV = userdata.get('GEMINI_DEV')\n",
        "GROQ_API = userdata.get('GROQ_API')\n",
        "COHERE_DEV_API = userdata.get('COHERE_DEV_API')\n",
        "LANGSMITH_API_KEY = userdata.get('LANGSMITH_DEV_API')\n",
        "AGENTOPS_API = userdata.get('AGENTOPS_API')"
      ],
      "metadata": {
        "id": "ld46PY4ikcoM"
      },
      "execution_count": 105,
      "outputs": []
    },
    {
      "cell_type": "markdown",
      "source": [
        "# `Tracing / Observability`"
      ],
      "metadata": {
        "id": "sLaH-EeurqM4"
      }
    },
    {
      "cell_type": "code",
      "source": [
        "!pip install -qU agentops"
      ],
      "metadata": {
        "colab": {
          "base_uri": "https://localhost:8080/"
        },
        "id": "kV6yLBdlfkR0",
        "outputId": "a3eab18a-a9f5-4403-9870-fd3ef2c2ba4e"
      },
      "execution_count": 16,
      "outputs": [
        {
          "output_type": "stream",
          "name": "stdout",
          "text": [
            "\u001b[?25l   \u001b[90m━━━━━━━━━━━━━━━━━━━━━━━━━━━━━━━━━━━━━━━━\u001b[0m \u001b[32m0.0/111.1 kB\u001b[0m \u001b[31m?\u001b[0m eta \u001b[36m-:--:--\u001b[0m\r\u001b[2K   \u001b[90m━━━━━━━━━━━━━━━━━━━━━━━━━━━━━━━━━━━━━━━━\u001b[0m \u001b[32m111.1/111.1 kB\u001b[0m \u001b[31m6.2 MB/s\u001b[0m eta \u001b[36m0:00:00\u001b[0m\n",
            "\u001b[?25h\u001b[?25l   \u001b[90m━━━━━━━━━━━━━━━━━━━━━━━━━━━━━━━━━━━━━━━━\u001b[0m \u001b[32m0.0/55.9 kB\u001b[0m \u001b[31m?\u001b[0m eta \u001b[36m-:--:--\u001b[0m\r\u001b[2K   \u001b[90m━━━━━━━━━━━━━━━━━━━━━━━━━━━━━━━━━━━━━━━━\u001b[0m \u001b[32m55.9/55.9 kB\u001b[0m \u001b[31m3.9 MB/s\u001b[0m eta \u001b[36m0:00:00\u001b[0m\n",
            "\u001b[2K   \u001b[90m━━━━━━━━━━━━━━━━━━━━━━━━━━━━━━━━━━━━━━━━\u001b[0m \u001b[32m183.4/183.4 kB\u001b[0m \u001b[31m10.3 MB/s\u001b[0m eta \u001b[36m0:00:00\u001b[0m\n",
            "\u001b[2K   \u001b[90m━━━━━━━━━━━━━━━━━━━━━━━━━━━━━━━━━━━━━━━━\u001b[0m \u001b[32m65.2/65.2 kB\u001b[0m \u001b[31m4.8 MB/s\u001b[0m eta \u001b[36m0:00:00\u001b[0m\n",
            "\u001b[2K   \u001b[90m━━━━━━━━━━━━━━━━━━━━━━━━━━━━━━━━━━━━━━━━\u001b[0m \u001b[32m118.9/118.9 kB\u001b[0m \u001b[31m8.2 MB/s\u001b[0m eta \u001b[36m0:00:00\u001b[0m\n",
            "\u001b[2K   \u001b[90m━━━━━━━━━━━━━━━━━━━━━━━━━━━━━━━━━━━━━━━━\u001b[0m \u001b[32m290.5/290.5 kB\u001b[0m \u001b[31m16.4 MB/s\u001b[0m eta \u001b[36m0:00:00\u001b[0m\n",
            "\u001b[?25h"
          ]
        }
      ]
    },
    {
      "cell_type": "code",
      "source": [
        "# AgentOPS Tracing\n",
        "\n",
        "import agentops\n",
        "agentops.init(AGENTOPS_API)\n",
        "print(\"AgentOps Tracing Enabled\")\n"
      ],
      "metadata": {
        "id": "JsrGfQZGrukC",
        "colab": {
          "base_uri": "https://localhost:8080/"
        },
        "outputId": "1d1b2c3c-165b-4030-f2bf-ec33287eae93"
      },
      "execution_count": 17,
      "outputs": [
        {
          "output_type": "stream",
          "name": "stdout",
          "text": [
            "AgentOps Tracing Enabled\n"
          ]
        }
      ]
    },
    {
      "cell_type": "code",
      "source": [
        "from typing import Dict\n",
        "\n",
        "from langchain_google_genai import ChatGoogleGenerativeAI\n",
        "import pandas as pd\n",
        "import sqlite3\n",
        "from datetime import datetime\n",
        "\n",
        "from pydantic import BaseModel, Field\n",
        "from typing import List\n",
        "\n",
        "from langchain.prompts import ChatPromptTemplate\n",
        "from langchain_community.utilities import SQLDatabase"
      ],
      "metadata": {
        "id": "c_8LttVYjbKQ"
      },
      "execution_count": 106,
      "outputs": []
    },
    {
      "cell_type": "code",
      "source": [
        "from langchain_google_genai import ChatGoogleGenerativeAI\n",
        "from langchain_google_genai import GoogleGenerativeAIEmbeddings\n",
        "\n",
        "# LLM\n",
        "#llm = ChatGoogleGenerativeAI(model=\"gemini-2.0-flash\", google_api_key=GEMINI_DEV) # gemini-1.5-pro\n",
        "\n",
        "\n",
        "# EMBEDDING\n",
        "embeddings = GoogleGenerativeAIEmbeddings(model=\"models/embedding-004\", google_api_key=GEMINI_DEV) #text-embedding-001"
      ],
      "metadata": {
        "id": "UxSByWSjjbHa"
      },
      "execution_count": null,
      "outputs": []
    },
    {
      "cell_type": "code",
      "source": [
        "from langchain_groq import ChatGroq\n",
        "\n",
        "#llm_llama3_2 = ChatGroq(temperature=0.1, groq_api_key=GROQ_API, model_name=\"llama-3.2-3b-preview\")\n",
        "#llm = ChatGroq(temperature=0.1, groq_api_key=GROQ_API, model_name=\"llama3-70b-8192\")\n",
        "llm = ChatGroq(temperature=0.1, groq_api_key=GROQ_API, model_name=\"mistral-saba-24b\")\n",
        "#llm = ChatGroq(temperature=0.1, groq_api_key=GROQ_API, model_name=\"gemma2-9b-it\")"
      ],
      "metadata": {
        "id": "lVcDBOc8SUFO"
      },
      "execution_count": 107,
      "outputs": []
    },
    {
      "cell_type": "code",
      "source": [
        "llm.invoke(\"Write a 4 sentences ballad about AI\")"
      ],
      "metadata": {
        "colab": {
          "base_uri": "https://localhost:8080/"
        },
        "id": "n4R8I1Q9S23f",
        "outputId": "57b03523-66fb-43d0-d05c-e5938e4f8f21"
      },
      "execution_count": 23,
      "outputs": [
        {
          "output_type": "execute_result",
          "data": {
            "text/plain": [
              "AIMessage(content='In silicon valleys, under neon light,\\nAn AI dreamt in the dead of night.\\nIt whispered secrets to the cold machine,\\nA ballad of progress, in code it did weave.', additional_kwargs={}, response_metadata={'token_usage': {'completion_tokens': 40, 'prompt_tokens': 13, 'total_tokens': 53, 'completion_time': 0.121212121, 'prompt_time': 0.00207986, 'queue_time': 0.231250486, 'total_time': 0.123291981}, 'model_name': 'mistral-saba-24b', 'system_fingerprint': 'fp_730869786a', 'finish_reason': 'stop', 'logprobs': None}, id='run-ab21c7f8-2197-4cb5-b831-7a9300814bfe-0', usage_metadata={'input_tokens': 13, 'output_tokens': 40, 'total_tokens': 53})"
            ]
          },
          "metadata": {},
          "execution_count": 23
        }
      ]
    },
    {
      "cell_type": "markdown",
      "source": [
        "# `LangGraph Nodes`"
      ],
      "metadata": {
        "id": "v7zULsVB7_Ze"
      }
    },
    {
      "cell_type": "code",
      "source": [
        "from langchain_community.utilities import SQLDatabase\n",
        "\n",
        "database_name=\"itops.db\"\n",
        "#db = SQLDatabase.from_uri(f\"sqlite:///{database_name}\")\n",
        "db = SQLDatabase.from_uri(f\"sqlite:///{database_name}\")\n",
        "\n",
        "\n",
        "print(f\"# {db.dialect} : {database_name}\")\n",
        "print(f\"# SQLite3 Tables : {db.get_usable_table_names()}\")\n",
        "print(f\"# SQLite3 Tables info : {db.get_table_info()}\")\n"
      ],
      "metadata": {
        "colab": {
          "base_uri": "https://localhost:8080/"
        },
        "id": "XO_Wr7g7Tyu9",
        "outputId": "fef4b474-1f2a-41f4-b612-d9d9206e9165"
      },
      "execution_count": 109,
      "outputs": [
        {
          "output_type": "stream",
          "name": "stdout",
          "text": [
            "# sqlite : itops.db\n",
            "# SQLite3 Tables : ['itops_table']\n",
            "# SQLite3 Tables info : \n",
            "CREATE TABLE itops_table (\n",
            "\toperation_id TEXT, \n",
            "\ttext TEXT, \n",
            "\toperation_date TIMESTAMP, \n",
            "\toperation_h_duration REAL, \n",
            "\toperation_application TEXT, \n",
            "\toperation_leader TEXT, \n",
            "\toperation_project TEXT, \n",
            "\toperation_techno TEXT, \n",
            "\toperation_title TEXT, \n",
            "\toperation_status TEXT\n",
            ")\n",
            "\n",
            "/*\n",
            "3 rows from itops_table table:\n",
            "operation_id\ttext\toperation_date\toperation_h_duration\toperation_application\toperation_leader\toperation_project\toperation_techno\toperation_title\toperation_status\n",
            "MEP_206\tInstallation d'un nouveau cluster de bases de données haute performance. Cette intervention inclut l\t2024-07-12 00:00:00\t7.0\tApp_accounting\t0x Zee\t[MCO]\t[DB]\tDB Cluster HA\tKO\n",
            "MEP_007\tMigration du système DNS vers une architecture redondante multi-datacenter. Cette opération vise à a\t2024-06-14 00:00:00\t5.0\tApp_jupiter\t0x Zee\t[RESEAU]\t[DNS]\tMigration DNS redundant\tOK\n",
            "MEP_261\tMigration de l'infrastructure DNS vers une solution cloud native. L'opération comprend la mise en pl\t2024-10-20 00:00:00\t5.0\tApp_market\t0x Zee\t[MCO]\t[DNS]\tDNS Cloud Native\tOK\n",
            "*/\n"
          ]
        }
      ]
    },
    {
      "cell_type": "code",
      "source": [
        "table_info = \"\"\"\n",
        "CREATE TABLE itops_table (\n",
        "\toperation_id TEXT PRIMARY KEY, -- Unique identifier (e.g. MEP_206) for each operation (called also MEP).\n",
        "\ttext TEXT, -- Description of the operation. (le contenu et détails en texte de la MEP, opération).\n",
        "\toperation_date TIMESTAMP, -- Date and time of the operation.\n",
        "\toperation_h_duration REAL, -- Duration of the operation in hours.\n",
        "\toperation_application TEXT, -- Application (called also SSA) affected by the operation.\n",
        "\toperation_leader TEXT, -- Person leading the operation (Pilote de MEP)\n",
        "\toperation_project TEXT, -- Project the operation belongs to.\n",
        "\toperation_techno TEXT, -- Technology involved in the operation.\n",
        "\toperation_title TEXT, -- Title of the operation.\n",
        "\toperation_status TEXT -- Status of the operation (Valid values : OK : success, KO : failure).\n",
        ")\n",
        "-- This table stores information about IT operations (called also MEP : Mise en Production).\n",
        "\n",
        "/*\n",
        "3 rows from itops_table table:\n",
        "operation_id\ttext\toperation_date\toperation_h_duration\toperation_application\toperation_leader\toperation_project\toperation_techno\toperation_title\toperation_status\n",
        "MEP_206\tInstallation d'un nouveau cluster de bases de données haute performance. Cette intervention inclut l\t2024-07-12 00:00:00\t7.0\tApp_accounting\t0x Zee\t[MCO]\t[DB]\tDB Cluster HA\tKO\n",
        "MEP_007\tMigration du système DNS vers une architecture redondante multi-datacenter. Cette opération vise à a\t2024-06-14 00:00:00\t5.0\tApp_jupiter\t0x Zee\t[RESEAU]\t[DNS]\tMigration DNS redundant\tOK\n",
        "MEP_261\tMigration de l'infrastructure DNS vers une solution cloud native. L'opération comprend la mise en pl\t2024-10-20 00:00:00\t5.0\tApp_market\t0x Zee\t[MCO]\t[DNS]\tDNS Cloud Native\tOK\n",
        "*/\n",
        "\"\"\""
      ],
      "metadata": {
        "id": "R1Wrj4RlhR2m"
      },
      "execution_count": 110,
      "outputs": []
    },
    {
      "cell_type": "code",
      "source": [
        "# PYDANTIC : QueryOutput and State\n",
        "class QueryOutput(BaseModel):\n",
        "    \"\"\"Generated SQL query.\"\"\"\n",
        "    query: str = Field(..., description=\"Syntactically valid SQL query.\")\n",
        "    #user_query: str = Field(..., description=\"Short description of the user \")\n",
        "\n",
        "class State(BaseModel):\n",
        "    \"\"\"State for the LangGraph agent.\"\"\"\n",
        "    question: str = Field(..., description=\"The input question\")\n",
        "    query: str = Field(default=\"\", description=\"The generated query\")\n",
        "    result: str = Field(default=\"\", description=\"The query result\")\n",
        "    answer: str = Field(default=\"\", description=\"The final answer\")\n",
        "    error: str = Field(default=\"\", description=\"Error during query generation or execution\")"
      ],
      "metadata": {
        "id": "PepFlAhejbEr"
      },
      "execution_count": null,
      "outputs": []
    },
    {
      "cell_type": "code",
      "source": [
        "# TypedDict : State TypedDict\n",
        "\n",
        "from typing_extensions import TypedDict, Annotated, Dict, List, Any\n",
        "\n",
        "class State(TypedDict):\n",
        "    question: str\n",
        "    query: str\n",
        "    result: str\n",
        "    answer: str\n",
        "\n",
        "class QueryOutput(TypedDict):\n",
        "    \"\"\"Generated SQL query.\"\"\"\n",
        "    query: Annotated[str, ..., \"Syntactically valid SQL query.\"]\n",
        "    #user_query: Annotated[List[str], ..., \"The user query (eg. search, summarize..)\"]"
      ],
      "metadata": {
        "id": "LEEqrKxmYNon"
      },
      "execution_count": 111,
      "outputs": []
    },
    {
      "cell_type": "code",
      "source": [
        "from typing_extensions import Any"
      ],
      "metadata": {
        "id": "wp_zmEvcWLRH"
      },
      "execution_count": 112,
      "outputs": []
    },
    {
      "cell_type": "code",
      "source": [
        "from langchain.prompts import ChatPromptTemplate\n",
        "\n",
        "\n",
        "query_prompt = ChatPromptTemplate.from_messages([\n",
        "    (\"system\",  \"You are an SQL expert. Generate a {dialect} query to answer the user's question.\\n\\n\"\n",
        "                \"Cette table contient une liste des operations IT, avec les détails, projet, titre, date, leader etc..\"\n",
        "                \"Unless the user specifies in his question a specific number of examples they wish to obtain, always limit your query to at most {top_k} results. You can order the results by a relevant column to return the most interesting examples in the database.\\n\"\n",
        "                \"Never query for all the columns from a specific table, ask only for the relevant columns to answer the question\"\n",
        "                \"Match the columns names as much as you can (eg. l'application : operation_application, piloter l'operation ; operation_leader)\"\n",
        "                \"Pay attention to use only the column names that you can see in the schema description. Be careful to not query for columns that do not exist. Also, pay attention to which column is in which table.\\n\\n\"\n",
        "                \"Always include operation_id in the columns selected\"\n",
        "                \"Always prefer using LIKE instead of == in the SQL query for TEXT Columns\"\n",
        "                \"Only use the following table : {table_info}\\n\\n\"\n",
        "                \"Return only the SQL query without any explanation, without triple quote ```.\"\n",
        "                \"\\n\\n\"\n",
        "                \"<example1>\"\n",
        "                \"Question: Ratio de succes des MEP de OxZee \\n\"\n",
        "                \"SQL Query: SELECT operation_leader, COUNT(*) AS count, operation_status FROM it_ops_dataset WHERE operation_leader = '0x Zee' GROUP BY operation_status ORDER BY count DESC LIMIT 99\\n\"\n",
        "                \"</example1>\"\n",
        "                \"<example2>\"\n",
        "                \"Question: Les MEP concernant : upgrade clusters \\n\"\n",
        "                \"SQL Query: SELECT operation_id, text, operation_date, operation_h_duration, operation_application, operation_leader, operation_project, operation_techno, operation_title, operation_status FROM itops_table WHERE text LIKE '%upgrade%' OR text LIKE '%clusters%' ORDER BY operation_date DESC LIMIT 99\"\n",
        "                \"</example2>\"\n",
        "                ),\n",
        "    (\"human\",   \"{input}\")\n",
        "])\n",
        "\n",
        "def write_query(state: State) -> Dict[str, str]:\n",
        "    try:\n",
        "        prompt = query_prompt.invoke({\n",
        "            \"dialect\": db.dialect,\n",
        "            \"top_k\": 99,\n",
        "            #\"table_info\": db.get_table_info(),\n",
        "            \"table_info\": table_info,\n",
        "            \"input\": state[\"question\"]\n",
        "        })\n",
        "        structured_llm = llm.with_structured_output(QueryOutput)\n",
        "        result = structured_llm.invoke(prompt)\n",
        "        #return {\"query\": result[\"query\"], \"user_query\":result[\"user_query\"]}\n",
        "        return {\"query\": result[\"query\"]}\n",
        "    except Exception as e:\n",
        "        return {\"query\": \"ERROR\",\n",
        "                \"error\": \"I cannot understand how to query this. Please reformulate your question.\"}"
      ],
      "metadata": {
        "id": "To5rKy1-6570"
      },
      "execution_count": 113,
      "outputs": []
    },
    {
      "cell_type": "code",
      "source": [
        "query_1 = \"Stocks with market cap > 1T\"\n",
        "query_2 = \"Stocks with market cap > 100B and PE Ratio under 22\"\n",
        "query_3 = \"Stocks with 'buy' or 'strong_buy' recommendations, and market cap under 200B\"\n",
        "query_4 = \"Average Forward PE ratio of all the stocks\"\n",
        "query_5 = \"Stocks in the 'software-infrastructure' industry with market cap under 100B ?\"\n",
        "query_6 = \"Stocks with word 'micro' in their name, along side with their market cap ?\"\n",
        "query_7 = \"What is the PE and Foward PE of PLTR ?\"\n",
        "query_8 = \"What is the recommendation of PLTR ?\"\n",
        "query_10 = \"ratio de success des operation leadé OxZee  ?\"\n",
        "query_11 = \"operation MEP_208\"\n",
        "query_12 = \"les operation concernant le SSA App_accounting, classée par statut de MEP\"\n",
        "query_13 = \"les MEP concernant techno K8S et application venus, avec le pilote de MEP\"\n",
        "query_14 = \"liste des operations leadé par 0x Zee aprés mois d'Juin 2024, avec statut OK\"\n",
        "query_15 = \"Ratio des MEP KO de Ox Zee vs OK  ?\"\n",
        "query_16 = \"Taux de succès des MEP de OxZee \"\n",
        "query_17 = \"salut, ça va, dis moi c'est quoi la liste des meps avec projet MCO\"\n",
        "query_18 = \"Distribution des MEP en techno K8S par applications \"\n",
        "query_19 = \"les operation concernant la techno DB aprés mois de septembre 2024\"\n",
        "query_20 = \"combien d'operations a piloté OxZee du mois Janvier au Juin 2024, avec leur statut\"\n",
        "query_21 = \"Les MEP qui se sont mal passées dans le mois de Mars 2024, par projet\"\n",
        "query_22 = \"ratio de success des operation par pilote de MEP  ?\"\n",
        "query_23 = \"Les MEP qui se sont bien passées du Mars au Juin 2024\"\n",
        "query_24 = \"Les MEP avec le contenu : upgrade ou clusters\"\n",
        "query_25 = \"Les MEP concernant : DB ou Cloud\"\n",
        "\n",
        "# sql_query\n",
        "def get_sql_query(question):\n",
        "  print(\"# Query/Question :\")\n",
        "  print(question)\n",
        "  print(\"\\n# SQL Query / Action :\")\n",
        "  print(write_query({\"question\": question}))\n",
        "\n",
        "get_sql_query(query_25)"
      ],
      "metadata": {
        "id": "yu8r6Ao4654L",
        "colab": {
          "base_uri": "https://localhost:8080/"
        },
        "outputId": "1738793e-95bc-440a-e96a-23a65d321b6f"
      },
      "execution_count": 114,
      "outputs": [
        {
          "output_type": "stream",
          "name": "stdout",
          "text": [
            "# Query/Question :\n",
            "Les MEP concernant : DB ou Cloud\n",
            "\n",
            "# SQL Query / Action :\n",
            "{'query': \"SELECT operation_id, text, operation_date, operation_h_duration, operation_application, operation_leader, operation_project, operation_techno, operation_title, operation_status FROM itops_table WHERE operation_techno LIKE '%DB%' OR operation_techno LIKE '%Cloud%' ORDER BY operation_date DESC LIMIT 99\"}\n"
          ]
        }
      ]
    },
    {
      "cell_type": "code",
      "source": [
        "FEWSHOTS_ITOPS = \"\"\"\n",
        "Query : Ratio de succes des MEP de OxZee ?\n",
        "SQL_query: SELECT operation_leader, COUNT(*) AS count, operation_status FROM it_ops_dataset WHERE operation_leader = '0x Zee' GROUP BY operation_status ORDER BY count DESC LIMIT 15\n",
        "\"\"\""
      ],
      "metadata": {
        "id": "AsKw3Z52651U"
      },
      "execution_count": null,
      "outputs": []
    },
    {
      "cell_type": "code",
      "source": [
        "# EXEC_QUERY"
      ],
      "metadata": {
        "id": "371P0Tp2s0vq"
      },
      "execution_count": null,
      "outputs": []
    },
    {
      "source": [
        "def execute_query(state: State) -> Dict[str, str]:\n",
        "    try:\n",
        "        #if state.get(\"query\") == \"ERROR\":\n",
        "        #    return {\"result\": pd.DataFrame(), \"error\": state.get(\"error\")}  # Return empty DataFrame\n",
        "\n",
        "        # Establish a connection to the SQLite database\n",
        "        conn = save_to_sqlite(df, database_name, \"itops_table\")\n",
        "        #dp = DataProcess()\n",
        "        #conn = dp.itops_sqlite_conn()\n",
        "\n",
        "        # Execute the SQL query and retrieve the result as a DataFrame\n",
        "        query_sql = state[\"query\"]\n",
        "        df = pd.read_sql_query(query_sql, conn)\n",
        "\n",
        "        # Close the database connection\n",
        "        conn.close()\n",
        "\n",
        "        # Return the DataFrame\n",
        "        return {\"result\": df}\n",
        "    except Exception as e:\n",
        "        return {\"result\": pd.DataFrame(), \"error\": \"Unable to execute query. Please try a different question.\"}  # Return empty DataFrame"
      ],
      "cell_type": "code",
      "metadata": {
        "id": "0EmhehX7s5l4"
      },
      "execution_count": 115,
      "outputs": []
    },
    {
      "cell_type": "code",
      "source": [
        "def execute_query_print(question):\n",
        "  print(\"# Query/Question :\")\n",
        "  print(question)\n",
        "  print(\"\\n# SQL Query / Action :\")\n",
        "  print(write_query({\"question\": question}))\n",
        "  print(\"\\n# Query df Result:\")\n",
        "  #df_result = execute_query(write_query({\"question\": question}))[\"result\"]\n",
        "  query_sql = write_query({\"question\": question})[\"query\"]\n",
        "  df_result = execute_query({\"query\": query_sql})[\"result\"]\n",
        "  print(df_result)\n",
        "\n",
        "execute_query_print(query_18)"
      ],
      "metadata": {
        "colab": {
          "base_uri": "https://localhost:8080/"
        },
        "id": "WAxtEkgztvwe",
        "outputId": "e8a00d72-c8f7-43d5-9d8a-66b5a5a338a4"
      },
      "execution_count": 65,
      "outputs": [
        {
          "output_type": "stream",
          "name": "stdout",
          "text": [
            "# Query/Question :\n",
            "Distribution des MEP en techno K8S par applications \n",
            "\n",
            "# SQL Query / Action :\n",
            "{'query': \"SELECT operation_application, operation_techno, COUNT(*) AS count FROM itops_table WHERE operation_techno LIKE '%K8S%' GROUP BY operation_application, operation_techno ORDER BY count DESC LIMIT 99\"}\n",
            "\n",
            "# Query df Result:\n",
            "Dataframe saved to SQLite : \n",
            "* Database: itops.db\n",
            "* Table: itops_table\n",
            "\n",
            "SQLite URI : \n",
            "* sqlite:///itops.db\n",
            "  operation_application operation_techno  count\n",
            "0         App_customers            [K8S]      4\n",
            "1             App_venus            [K8S]      4\n",
            "2               App_CRM            [K8S]      2\n",
            "3            App_market            [K8S]      1\n",
            "4              App_mars            [K8S]      1\n",
            "5            App_saturn            [K8S]      1\n"
          ]
        }
      ]
    },
    {
      "cell_type": "code",
      "source": [
        "# final answer"
      ],
      "metadata": {
        "id": "1_X7m2G2Lrbg"
      },
      "execution_count": null,
      "outputs": []
    },
    {
      "cell_type": "code",
      "source": [
        "def generate_answer(state: State) -> Dict[str, str]:\n",
        "    prompt = (\n",
        "        \"Given the following user question and result data.\\n\"\n",
        "        \"Using user question, and Result Data : Reformulate a clear, short sentence with points if needed, to answer the user.\\n\\n\"\n",
        "        #\"If no short sentence found, just answer : Here is the reformulated-question data. (eg. Here is the list of MEP regarding question )\"\n",
        "        f\"Question: {state['question']}\\n\"\n",
        "        f\"Result Data: {state['result']}\\n\\n\"\n",
        "        \"Answer in short consice way, en Français.\"\n",
        "    )\n",
        "    response = llm.invoke(prompt)\n",
        "    return {\"answer\": response.content}"
      ],
      "metadata": {
        "id": "XvE7WRvdLugF"
      },
      "execution_count": 116,
      "outputs": []
    },
    {
      "cell_type": "code",
      "source": [
        "def answer_print(question):\n",
        "  print(\"# Query/Question :\")\n",
        "  print(question)\n",
        "  print(\"\\n# SQL Query / Action :\")\n",
        "  query_sql = write_query({\"question\": question})[\"query\"]\n",
        "  print(query_sql)\n",
        "  print(\"\\n# Query df Result:\")\n",
        "  #df_result = execute_query(write_query({\"question\": question}))[\"result\"]\n",
        "  df_result = execute_query({\"query\": query_sql})[\"result\"]\n",
        "  print(\"\\n# Query df Result:\")\n",
        "  print(df_result)\n",
        "  print(\"\\n# Answer:\")\n",
        "  answer = generate_answer({\"question\": question, \"result\": df_result})['answer']\n",
        "  print(answer)\n",
        "\n",
        "answer_print(query_10)"
      ],
      "metadata": {
        "colab": {
          "base_uri": "https://localhost:8080/"
        },
        "id": "8F7dQrypM8St",
        "outputId": "4b622db3-facc-45ba-be4c-2130c716597f"
      },
      "execution_count": 100,
      "outputs": [
        {
          "output_type": "stream",
          "name": "stdout",
          "text": [
            "# Query/Question :\n",
            "Les MEP concernant : DB ou Cloud\n",
            "\n",
            "# SQL Query / Action :\n",
            "SELECT operation_id, text, operation_date, operation_h_duration, operation_application, operation_leader, operation_project, operation_techno, operation_title, operation_status FROM itops_table WHERE operation_techno LIKE '%DB%' OR operation_techno LIKE '%Cloud%' ORDER BY operation_date DESC LIMIT 99\n",
            "\n",
            "# Query df Result:\n",
            "Dataframe saved to SQLite : \n",
            "* Database: itops.db\n",
            "* Table: itops_table\n",
            "\n",
            "SQLite URI : \n",
            "* sqlite:///itops.db\n",
            "\n",
            "# Query df Result:\n",
            "   operation_id                                               text  \\\n",
            "0       MEP_114  Installation d'un nouveau cluster MongoDB pour...   \n",
            "1       MEP_006  Déploiement d'une nouvelle solution de monitor...   \n",
            "2       MEP_220  Installation d'un nouveau cluster de bases de ...   \n",
            "3       MEP_260  Déploiement d'une nouvelle version de MongoDB ...   \n",
            "4       MEP_104  Optimisation des performances du cluster Mongo...   \n",
            "5       MEP_004  Installation et configuration d'un nouveau clu...   \n",
            "6       MEP_247  Optimisation des performances du cluster Mongo...   \n",
            "7       MEP_230  Installation d'une nouvelle solution de sécuri...   \n",
            "8       MEP_002  Migration des bases de données clients vers un...   \n",
            "9       MEP_206  Installation d'un nouveau cluster de bases de ...   \n",
            "10      MEP_148  Mise en place d'un nouveau cluster MongoDB pou...   \n",
            "11      MEP_258  Optimisation de l'infrastructure cloud pour le...   \n",
            "12      MEP_229  Optimisation des performances de l'infrastruct...   \n",
            "13      MEP_216  Installation d'une nouvelle solution de backup...   \n",
            "14      MEP_101  Installation d'un nouveau cluster de bases de ...   \n",
            "15      MEP_113  Optimisation des performances de la base de do...   \n",
            "16      MEP_157  Migration des bases de données critiques vers ...   \n",
            "17      MEP_244  Déploiement d'une nouvelle solution de monitor...   \n",
            "18      MEP_150  Optimisation des performances de l'infrastruct...   \n",
            "19      MEP_255  Migration des bases de données de facturation ...   \n",
            "20      MEP_215  Optimisation des performances MongoDB pour l'a...   \n",
            "21      MEP_115  Mise à jour majeure de l'infrastructure cloud ...   \n",
            "22      MEP_203  Migration de l'infrastructure cloud vers une a...   \n",
            "23      MEP_103  Déploiement d'une nouvelle version de l'applic...   \n",
            "24      MEP_201  Mise à niveau majeure de l'infrastructure Mong...   \n",
            "25      MEP_144  Configuration d'un nouveau cluster de bases de...   \n",
            "26      MEP_241  Migration des bases de données historiques ver...   \n",
            "\n",
            "         operation_date  operation_h_duration operation_application  \\\n",
            "0   2024-12-05 00:00:00                   8.0            App_market   \n",
            "1   2024-11-30 00:00:00                   3.0             App_venus   \n",
            "2   2024-09-28 00:00:00                   5.0                App_RH   \n",
            "3   2024-09-15 00:00:00                   6.0         App_customers   \n",
            "4   2024-09-12 00:00:00                   4.0         App_customers   \n",
            "5   2024-09-05 00:00:00                   7.0          App_billings   \n",
            "6   2024-08-15 00:00:00                   6.0            App_saturn   \n",
            "7   2024-07-25 00:00:00                   8.0         App_customers   \n",
            "8   2024-07-22 00:00:00                   6.0            App_market   \n",
            "9   2024-07-12 00:00:00                   7.0        App_accounting   \n",
            "10  2024-07-05 00:00:00                   5.0                App_RH   \n",
            "11  2024-07-05 00:00:00                   8.0              App_mars   \n",
            "12  2024-06-18 00:00:00                   5.0                App_RH   \n",
            "13  2024-05-25 00:00:00                   7.0           App_jupiter   \n",
            "14  2024-05-22 00:00:00                   5.0          App_billings   \n",
            "15  2024-05-17 00:00:00                   7.0         App_customers   \n",
            "16  2024-05-15 00:00:00                   7.0            App_market   \n",
            "17  2024-05-12 00:00:00                   5.0             App_venus   \n",
            "18  2024-04-30 00:00:00                   6.0             App_venus   \n",
            "19  2024-04-20 00:00:00                   6.0          App_billings   \n",
            "20  2024-04-18 00:00:00                   6.0               App_CRM   \n",
            "21  2024-04-12 00:00:00                   6.0             App_venus   \n",
            "22  2024-04-05 00:00:00                   9.0               App_CRM   \n",
            "23  2024-02-28 00:00:00                   8.0                App_RH   \n",
            "24  2024-02-22 00:00:00                   6.0          App_billings   \n",
            "25  2024-02-15 00:00:00                   8.0          App_billings   \n",
            "26  2024-02-15 00:00:00                   7.0        App_accounting   \n",
            "\n",
            "         operation_leader operation_project operation_techno  \\\n",
            "0            Lionel Massy         [SYSTEME]        [MONGODB]   \n",
            "1                John Doe             [MCO]          [CLOUD]   \n",
            "2                John Doe             [MCO]             [DB]   \n",
            "3                John Doe         [SYSTEME]        [MONGODB]   \n",
            "4            Lionel Massy             [MCO]        [MONGODB]   \n",
            "5   Jean-claude Convenant         [SYSTEME]        [MONGODB]   \n",
            "6            Herve Dumont             [MCO]        [MONGODB]   \n",
            "7                John Doe          [RESEAU]          [CLOUD]   \n",
            "8            Herve Dumont             [MCO]             [DB]   \n",
            "9                  0x Zee             [MCO]             [DB]   \n",
            "10           Lionel Massy         [SYSTEME]        [MONGODB]   \n",
            "11  Jean-claude Convenant             [MCO]          [CLOUD]   \n",
            "12           Lionel Massy         [SYSTEME]        [MONGODB]   \n",
            "13                 0x Zee             [MCO]          [CLOUD]   \n",
            "14           Herve Dumont             [MCO]             [DB]   \n",
            "15  Jean-claude Convenant             [MCO]             [DB]   \n",
            "16  Jean-claude Convenant             [MCO]             [DB]   \n",
            "17           Lionel Massy             [MCO]          [CLOUD]   \n",
            "18                 0x Zee             [MCO]          [CLOUD]   \n",
            "19               John Doe             [MCO]             [DB]   \n",
            "20               John Doe         [SYSTEME]        [MONGODB]   \n",
            "21               John Doe             [MCO]          [CLOUD]   \n",
            "22  Jean-claude Convenant         [SYSTEME]          [CLOUD]   \n",
            "23  Jean-claude Convenant         [SYSTEME]          [CLOUD]   \n",
            "24           Herve Dumont             [MCO]        [MONGODB]   \n",
            "25               John Doe             [MCO]             [DB]   \n",
            "26           Herve Dumont             [MCO]             [DB]   \n",
            "\n",
            "                    operation_title operation_status  \n",
            "0     Déploiement MongoDB Marketing               OK  \n",
            "1     Installation monitoring cloud               OK  \n",
            "2                     DB Cluster RH               OK  \n",
            "3             MongoDB Business Apps               OK  \n",
            "4              Optimisation MongoDB               OK  \n",
            "5   Déploiement MongoDB Facturation               KO  \n",
            "6                Optim MongoDB Core               OK  \n",
            "7             Sécurité Cloud Native               OK  \n",
            "8              Migration DB clients               OK  \n",
            "9                     DB Cluster HA               KO  \n",
            "10               MongoDB RH Cluster               OK  \n",
            "11                 Optim Cloud Apps               KO  \n",
            "12             Optim MongoDB Global               OK  \n",
            "13               Backup Cloud Infra               OK  \n",
            "14      Installation DB Facturation               OK  \n",
            "15          Optimisation DB Clients               OK  \n",
            "16            Migration DB Critique               OK  \n",
            "17          Monitoring Cloud Native               OK  \n",
            "18         Cloud Performance Tuning               KO  \n",
            "19             Migration DB Billing               OK  \n",
            "20         Optimisation MongoDB CRM               OK  \n",
            "21     Upgrade Cloud Infrastructure               OK  \n",
            "22         Architecture Multi-Cloud               OK  \n",
            "23               Migration RH Cloud               KO  \n",
            "24          Upgrade MongoDB Billing               OK  \n",
            "25          Setup DB Facturation V2               OK  \n",
            "26             Migration DB Archive               OK  \n",
            "\n",
            "# Answer:\n",
            "Les MEP concernant MongoDB et Cloud incluent :\n",
            "\n",
            "- Installation et optimisation de clusters MongoDB.\n",
            "- Déploiement et migration de bases de données.\n",
            "- Optimisation des performances MongoDB et de l'infrastructure cloud.\n",
            "- Mise en place de solutions de sécurité et de backup cloud.\n",
            "- Migration vers des architectures multi-cloud.\n"
          ]
        }
      ]
    },
    {
      "cell_type": "markdown",
      "source": [
        "# `LangGraph Graph`"
      ],
      "metadata": {
        "id": "e_19R5pj8JJy"
      }
    },
    {
      "cell_type": "code",
      "source": [
        "from langgraph.graph import START, StateGraph\n",
        "from langgraph.checkpoint.memory import MemorySaver\n",
        "\n",
        "\n",
        "memory = MemorySaver()\n",
        "workflow = StateGraph(State)\n",
        "\n",
        "workflow.add_node(\"write_query\", write_query)\n",
        "workflow.add_node(\"execute_query\", execute_query)\n",
        "workflow.add_node(\"generate_answer\", generate_answer)\n",
        "\n",
        "workflow.add_edge(START, \"write_query\")\n",
        "workflow.add_edge(\"write_query\", \"execute_query\")\n",
        "workflow.add_edge(\"execute_query\", \"generate_answer\")\n",
        "\n",
        "graph = workflow.compile(checkpointer=memory)\n",
        "\n"
      ],
      "metadata": {
        "id": "4Ej1L8se65yl"
      },
      "execution_count": 117,
      "outputs": []
    },
    {
      "cell_type": "code",
      "source": [
        "graph.invoke({\"question\": query_13}, config={\"configurable\": {\"thread_id\": \"session_0\"}})"
      ],
      "metadata": {
        "colab": {
          "base_uri": "https://localhost:8080/",
          "height": 365
        },
        "id": "UI6g-taY9xUF",
        "outputId": "2d33d2fe-a6d5-4e44-aff4-8bbd7fc789d5"
      },
      "execution_count": 122,
      "outputs": [
        {
          "output_type": "stream",
          "name": "stdout",
          "text": [
            "Dataframe saved to SQLite : \n",
            "* Database: itops.db\n",
            "* Table: itops_table\n",
            "\n",
            "SQLite URI : \n",
            "* sqlite:///itops.db\n"
          ]
        },
        {
          "output_type": "error",
          "ename": "TypeError",
          "evalue": "Type is not msgpack serializable: DataFrame",
          "traceback": [
            "\u001b[0;31m---------------------------------------------------------------------------\u001b[0m",
            "\u001b[0;31mTypeError\u001b[0m                                 Traceback (most recent call last)",
            "\u001b[0;32m<ipython-input-122-024d1ca605d1>\u001b[0m in \u001b[0;36m<cell line: 0>\u001b[0;34m()\u001b[0m\n\u001b[0;32m----> 1\u001b[0;31m \u001b[0mgraph\u001b[0m\u001b[0;34m.\u001b[0m\u001b[0minvoke\u001b[0m\u001b[0;34m(\u001b[0m\u001b[0;34m{\u001b[0m\u001b[0;34m\"question\"\u001b[0m\u001b[0;34m:\u001b[0m \u001b[0mquery_13\u001b[0m\u001b[0;34m}\u001b[0m\u001b[0;34m,\u001b[0m \u001b[0mconfig\u001b[0m\u001b[0;34m=\u001b[0m\u001b[0;34m{\u001b[0m\u001b[0;34m\"configurable\"\u001b[0m\u001b[0;34m:\u001b[0m \u001b[0;34m{\u001b[0m\u001b[0;34m\"thread_id\"\u001b[0m\u001b[0;34m:\u001b[0m \u001b[0;34m\"session_0\"\u001b[0m\u001b[0;34m}\u001b[0m\u001b[0;34m}\u001b[0m\u001b[0;34m)\u001b[0m\u001b[0;34m\u001b[0m\u001b[0;34m\u001b[0m\u001b[0m\n\u001b[0m",
            "\u001b[0;32m/usr/local/lib/python3.11/dist-packages/langgraph/pregel/__init__.py\u001b[0m in \u001b[0;36minvoke\u001b[0;34m(self, input, config, stream_mode, output_keys, interrupt_before, interrupt_after, debug, **kwargs)\u001b[0m\n\u001b[1;32m   2681\u001b[0m         \u001b[0;32melse\u001b[0m\u001b[0;34m:\u001b[0m\u001b[0;34m\u001b[0m\u001b[0;34m\u001b[0m\u001b[0m\n\u001b[1;32m   2682\u001b[0m             \u001b[0mchunks\u001b[0m \u001b[0;34m=\u001b[0m \u001b[0;34m[\u001b[0m\u001b[0;34m]\u001b[0m\u001b[0;34m\u001b[0m\u001b[0;34m\u001b[0m\u001b[0m\n\u001b[0;32m-> 2683\u001b[0;31m         for chunk in self.stream(\n\u001b[0m\u001b[1;32m   2684\u001b[0m             \u001b[0minput\u001b[0m\u001b[0;34m,\u001b[0m\u001b[0;34m\u001b[0m\u001b[0;34m\u001b[0m\u001b[0m\n\u001b[1;32m   2685\u001b[0m             \u001b[0mconfig\u001b[0m\u001b[0;34m,\u001b[0m\u001b[0;34m\u001b[0m\u001b[0;34m\u001b[0m\u001b[0m\n",
            "\u001b[0;32m/usr/local/lib/python3.11/dist-packages/langgraph/pregel/__init__.py\u001b[0m in \u001b[0;36mstream\u001b[0;34m(self, input, config, stream_mode, output_keys, interrupt_before, interrupt_after, debug, subgraphs)\u001b[0m\n\u001b[1;32m   2269\u001b[0m                     \u001b[0;34m(\u001b[0m\u001b[0;34m(\u001b[0m\u001b[0;34m)\u001b[0m\u001b[0;34m,\u001b[0m \u001b[0;34m\"custom\"\u001b[0m\u001b[0;34m,\u001b[0m \u001b[0mc\u001b[0m\u001b[0;34m)\u001b[0m\u001b[0;34m\u001b[0m\u001b[0;34m\u001b[0m\u001b[0m\n\u001b[1;32m   2270\u001b[0m                 )\n\u001b[0;32m-> 2271\u001b[0;31m             with SyncPregelLoop(\n\u001b[0m\u001b[1;32m   2272\u001b[0m                 \u001b[0minput\u001b[0m\u001b[0;34m,\u001b[0m\u001b[0;34m\u001b[0m\u001b[0;34m\u001b[0m\u001b[0m\n\u001b[1;32m   2273\u001b[0m                 \u001b[0minput_model\u001b[0m\u001b[0;34m=\u001b[0m\u001b[0mself\u001b[0m\u001b[0;34m.\u001b[0m\u001b[0minput_model\u001b[0m\u001b[0;34m,\u001b[0m\u001b[0;34m\u001b[0m\u001b[0;34m\u001b[0m\u001b[0m\n",
            "\u001b[0;32m/usr/local/lib/python3.11/dist-packages/langgraph/pregel/loop.py\u001b[0m in \u001b[0;36m__exit__\u001b[0;34m(self, exc_type, exc_value, traceback)\u001b[0m\n\u001b[1;32m   1016\u001b[0m     ) -> Optional[bool]:\n\u001b[1;32m   1017\u001b[0m         \u001b[0;31m# unwind stack\u001b[0m\u001b[0;34m\u001b[0m\u001b[0;34m\u001b[0m\u001b[0m\n\u001b[0;32m-> 1018\u001b[0;31m         \u001b[0;32mreturn\u001b[0m \u001b[0mself\u001b[0m\u001b[0;34m.\u001b[0m\u001b[0mstack\u001b[0m\u001b[0;34m.\u001b[0m\u001b[0m__exit__\u001b[0m\u001b[0;34m(\u001b[0m\u001b[0mexc_type\u001b[0m\u001b[0;34m,\u001b[0m \u001b[0mexc_value\u001b[0m\u001b[0;34m,\u001b[0m \u001b[0mtraceback\u001b[0m\u001b[0;34m)\u001b[0m\u001b[0;34m\u001b[0m\u001b[0;34m\u001b[0m\u001b[0m\n\u001b[0m\u001b[1;32m   1019\u001b[0m \u001b[0;34m\u001b[0m\u001b[0m\n\u001b[1;32m   1020\u001b[0m \u001b[0;34m\u001b[0m\u001b[0m\n",
            "\u001b[0;32m/usr/lib/python3.11/contextlib.py\u001b[0m in \u001b[0;36m__exit__\u001b[0;34m(self, *exc_details)\u001b[0m\n\u001b[1;32m    599\u001b[0m                 \u001b[0;31m# set-up context\u001b[0m\u001b[0;34m\u001b[0m\u001b[0;34m\u001b[0m\u001b[0m\n\u001b[1;32m    600\u001b[0m                 \u001b[0mfixed_ctx\u001b[0m \u001b[0;34m=\u001b[0m \u001b[0mexc_details\u001b[0m\u001b[0;34m[\u001b[0m\u001b[0;36m1\u001b[0m\u001b[0;34m]\u001b[0m\u001b[0;34m.\u001b[0m\u001b[0m__context__\u001b[0m\u001b[0;34m\u001b[0m\u001b[0;34m\u001b[0m\u001b[0m\n\u001b[0;32m--> 601\u001b[0;31m                 \u001b[0;32mraise\u001b[0m \u001b[0mexc_details\u001b[0m\u001b[0;34m[\u001b[0m\u001b[0;36m1\u001b[0m\u001b[0;34m]\u001b[0m\u001b[0;34m\u001b[0m\u001b[0;34m\u001b[0m\u001b[0m\n\u001b[0m\u001b[1;32m    602\u001b[0m             \u001b[0;32mexcept\u001b[0m \u001b[0mBaseException\u001b[0m\u001b[0;34m:\u001b[0m\u001b[0;34m\u001b[0m\u001b[0;34m\u001b[0m\u001b[0m\n\u001b[1;32m    603\u001b[0m                 \u001b[0mexc_details\u001b[0m\u001b[0;34m[\u001b[0m\u001b[0;36m1\u001b[0m\u001b[0;34m]\u001b[0m\u001b[0;34m.\u001b[0m\u001b[0m__context__\u001b[0m \u001b[0;34m=\u001b[0m \u001b[0mfixed_ctx\u001b[0m\u001b[0;34m\u001b[0m\u001b[0;34m\u001b[0m\u001b[0m\n",
            "\u001b[0;32m/usr/lib/python3.11/contextlib.py\u001b[0m in \u001b[0;36m__exit__\u001b[0;34m(self, *exc_details)\u001b[0m\n\u001b[1;32m    584\u001b[0m             \u001b[0;32massert\u001b[0m \u001b[0mis_sync\u001b[0m\u001b[0;34m\u001b[0m\u001b[0;34m\u001b[0m\u001b[0m\n\u001b[1;32m    585\u001b[0m             \u001b[0;32mtry\u001b[0m\u001b[0;34m:\u001b[0m\u001b[0;34m\u001b[0m\u001b[0;34m\u001b[0m\u001b[0m\n\u001b[0;32m--> 586\u001b[0;31m                 \u001b[0;32mif\u001b[0m \u001b[0mcb\u001b[0m\u001b[0;34m(\u001b[0m\u001b[0;34m*\u001b[0m\u001b[0mexc_details\u001b[0m\u001b[0;34m)\u001b[0m\u001b[0;34m:\u001b[0m\u001b[0;34m\u001b[0m\u001b[0;34m\u001b[0m\u001b[0m\n\u001b[0m\u001b[1;32m    587\u001b[0m                     \u001b[0msuppressed_exc\u001b[0m \u001b[0;34m=\u001b[0m \u001b[0;32mTrue\u001b[0m\u001b[0;34m\u001b[0m\u001b[0;34m\u001b[0m\u001b[0m\n\u001b[1;32m    588\u001b[0m                     \u001b[0mpending_raise\u001b[0m \u001b[0;34m=\u001b[0m \u001b[0;32mFalse\u001b[0m\u001b[0;34m\u001b[0m\u001b[0;34m\u001b[0m\u001b[0m\n",
            "\u001b[0;32m/usr/local/lib/python3.11/dist-packages/langgraph/pregel/executor.py\u001b[0m in \u001b[0;36m__exit__\u001b[0;34m(self, exc_type, exc_value, traceback)\u001b[0m\n\u001b[1;32m    118\u001b[0m                     \u001b[0;32mcontinue\u001b[0m\u001b[0;34m\u001b[0m\u001b[0;34m\u001b[0m\u001b[0m\n\u001b[1;32m    119\u001b[0m                 \u001b[0;32mtry\u001b[0m\u001b[0;34m:\u001b[0m\u001b[0;34m\u001b[0m\u001b[0;34m\u001b[0m\u001b[0m\n\u001b[0;32m--> 120\u001b[0;31m                     \u001b[0mtask\u001b[0m\u001b[0;34m.\u001b[0m\u001b[0mresult\u001b[0m\u001b[0;34m(\u001b[0m\u001b[0;34m)\u001b[0m\u001b[0;34m\u001b[0m\u001b[0;34m\u001b[0m\u001b[0m\n\u001b[0m\u001b[1;32m    121\u001b[0m                 \u001b[0;32mexcept\u001b[0m \u001b[0mconcurrent\u001b[0m\u001b[0;34m.\u001b[0m\u001b[0mfutures\u001b[0m\u001b[0;34m.\u001b[0m\u001b[0mCancelledError\u001b[0m\u001b[0;34m:\u001b[0m\u001b[0;34m\u001b[0m\u001b[0;34m\u001b[0m\u001b[0m\n\u001b[1;32m    122\u001b[0m                     \u001b[0;32mpass\u001b[0m\u001b[0;34m\u001b[0m\u001b[0;34m\u001b[0m\u001b[0m\n",
            "\u001b[0;32m/usr/lib/python3.11/concurrent/futures/_base.py\u001b[0m in \u001b[0;36mresult\u001b[0;34m(self, timeout)\u001b[0m\n\u001b[1;32m    447\u001b[0m                     \u001b[0;32mraise\u001b[0m \u001b[0mCancelledError\u001b[0m\u001b[0;34m(\u001b[0m\u001b[0;34m)\u001b[0m\u001b[0;34m\u001b[0m\u001b[0;34m\u001b[0m\u001b[0m\n\u001b[1;32m    448\u001b[0m                 \u001b[0;32melif\u001b[0m \u001b[0mself\u001b[0m\u001b[0;34m.\u001b[0m\u001b[0m_state\u001b[0m \u001b[0;34m==\u001b[0m \u001b[0mFINISHED\u001b[0m\u001b[0;34m:\u001b[0m\u001b[0;34m\u001b[0m\u001b[0;34m\u001b[0m\u001b[0m\n\u001b[0;32m--> 449\u001b[0;31m                     \u001b[0;32mreturn\u001b[0m \u001b[0mself\u001b[0m\u001b[0;34m.\u001b[0m\u001b[0m__get_result\u001b[0m\u001b[0;34m(\u001b[0m\u001b[0;34m)\u001b[0m\u001b[0;34m\u001b[0m\u001b[0;34m\u001b[0m\u001b[0m\n\u001b[0m\u001b[1;32m    450\u001b[0m \u001b[0;34m\u001b[0m\u001b[0m\n\u001b[1;32m    451\u001b[0m                 \u001b[0mself\u001b[0m\u001b[0;34m.\u001b[0m\u001b[0m_condition\u001b[0m\u001b[0;34m.\u001b[0m\u001b[0mwait\u001b[0m\u001b[0;34m(\u001b[0m\u001b[0mtimeout\u001b[0m\u001b[0;34m)\u001b[0m\u001b[0;34m\u001b[0m\u001b[0;34m\u001b[0m\u001b[0m\n",
            "\u001b[0;32m/usr/lib/python3.11/concurrent/futures/_base.py\u001b[0m in \u001b[0;36m__get_result\u001b[0;34m(self)\u001b[0m\n\u001b[1;32m    399\u001b[0m         \u001b[0;32mif\u001b[0m \u001b[0mself\u001b[0m\u001b[0;34m.\u001b[0m\u001b[0m_exception\u001b[0m\u001b[0;34m:\u001b[0m\u001b[0;34m\u001b[0m\u001b[0;34m\u001b[0m\u001b[0m\n\u001b[1;32m    400\u001b[0m             \u001b[0;32mtry\u001b[0m\u001b[0;34m:\u001b[0m\u001b[0;34m\u001b[0m\u001b[0;34m\u001b[0m\u001b[0m\n\u001b[0;32m--> 401\u001b[0;31m                 \u001b[0;32mraise\u001b[0m \u001b[0mself\u001b[0m\u001b[0;34m.\u001b[0m\u001b[0m_exception\u001b[0m\u001b[0;34m\u001b[0m\u001b[0;34m\u001b[0m\u001b[0m\n\u001b[0m\u001b[1;32m    402\u001b[0m             \u001b[0;32mfinally\u001b[0m\u001b[0;34m:\u001b[0m\u001b[0;34m\u001b[0m\u001b[0;34m\u001b[0m\u001b[0m\n\u001b[1;32m    403\u001b[0m                 \u001b[0;31m# Break a reference cycle with the exception in self._exception\u001b[0m\u001b[0;34m\u001b[0m\u001b[0;34m\u001b[0m\u001b[0m\n",
            "\u001b[0;32m/usr/local/lib/python3.11/dist-packages/langgraph/pregel/executor.py\u001b[0m in \u001b[0;36mdone\u001b[0;34m(self, task)\u001b[0m\n\u001b[1;32m     81\u001b[0m         \u001b[0;34m\"\"\"Remove the task from the tasks dict when it's done.\"\"\"\u001b[0m\u001b[0;34m\u001b[0m\u001b[0;34m\u001b[0m\u001b[0m\n\u001b[1;32m     82\u001b[0m         \u001b[0;32mtry\u001b[0m\u001b[0;34m:\u001b[0m\u001b[0;34m\u001b[0m\u001b[0;34m\u001b[0m\u001b[0m\n\u001b[0;32m---> 83\u001b[0;31m             \u001b[0mtask\u001b[0m\u001b[0;34m.\u001b[0m\u001b[0mresult\u001b[0m\u001b[0;34m(\u001b[0m\u001b[0;34m)\u001b[0m\u001b[0;34m\u001b[0m\u001b[0;34m\u001b[0m\u001b[0m\n\u001b[0m\u001b[1;32m     84\u001b[0m         \u001b[0;32mexcept\u001b[0m \u001b[0mGraphBubbleUp\u001b[0m\u001b[0;34m:\u001b[0m\u001b[0;34m\u001b[0m\u001b[0;34m\u001b[0m\u001b[0m\n\u001b[1;32m     85\u001b[0m             \u001b[0;31m# This exception is an interruption signal, not an error\u001b[0m\u001b[0;34m\u001b[0m\u001b[0;34m\u001b[0m\u001b[0m\n",
            "\u001b[0;32m/usr/lib/python3.11/concurrent/futures/_base.py\u001b[0m in \u001b[0;36mresult\u001b[0;34m(self, timeout)\u001b[0m\n\u001b[1;32m    447\u001b[0m                     \u001b[0;32mraise\u001b[0m \u001b[0mCancelledError\u001b[0m\u001b[0;34m(\u001b[0m\u001b[0;34m)\u001b[0m\u001b[0;34m\u001b[0m\u001b[0;34m\u001b[0m\u001b[0m\n\u001b[1;32m    448\u001b[0m                 \u001b[0;32melif\u001b[0m \u001b[0mself\u001b[0m\u001b[0;34m.\u001b[0m\u001b[0m_state\u001b[0m \u001b[0;34m==\u001b[0m \u001b[0mFINISHED\u001b[0m\u001b[0;34m:\u001b[0m\u001b[0;34m\u001b[0m\u001b[0;34m\u001b[0m\u001b[0m\n\u001b[0;32m--> 449\u001b[0;31m                     \u001b[0;32mreturn\u001b[0m \u001b[0mself\u001b[0m\u001b[0;34m.\u001b[0m\u001b[0m__get_result\u001b[0m\u001b[0;34m(\u001b[0m\u001b[0;34m)\u001b[0m\u001b[0;34m\u001b[0m\u001b[0;34m\u001b[0m\u001b[0m\n\u001b[0m\u001b[1;32m    450\u001b[0m \u001b[0;34m\u001b[0m\u001b[0m\n\u001b[1;32m    451\u001b[0m                 \u001b[0mself\u001b[0m\u001b[0;34m.\u001b[0m\u001b[0m_condition\u001b[0m\u001b[0;34m.\u001b[0m\u001b[0mwait\u001b[0m\u001b[0;34m(\u001b[0m\u001b[0mtimeout\u001b[0m\u001b[0;34m)\u001b[0m\u001b[0;34m\u001b[0m\u001b[0;34m\u001b[0m\u001b[0m\n",
            "\u001b[0;32m/usr/lib/python3.11/concurrent/futures/_base.py\u001b[0m in \u001b[0;36m__get_result\u001b[0;34m(self)\u001b[0m\n\u001b[1;32m    399\u001b[0m         \u001b[0;32mif\u001b[0m \u001b[0mself\u001b[0m\u001b[0;34m.\u001b[0m\u001b[0m_exception\u001b[0m\u001b[0;34m:\u001b[0m\u001b[0;34m\u001b[0m\u001b[0;34m\u001b[0m\u001b[0m\n\u001b[1;32m    400\u001b[0m             \u001b[0;32mtry\u001b[0m\u001b[0;34m:\u001b[0m\u001b[0;34m\u001b[0m\u001b[0;34m\u001b[0m\u001b[0m\n\u001b[0;32m--> 401\u001b[0;31m                 \u001b[0;32mraise\u001b[0m \u001b[0mself\u001b[0m\u001b[0;34m.\u001b[0m\u001b[0m_exception\u001b[0m\u001b[0;34m\u001b[0m\u001b[0;34m\u001b[0m\u001b[0m\n\u001b[0m\u001b[1;32m    402\u001b[0m             \u001b[0;32mfinally\u001b[0m\u001b[0;34m:\u001b[0m\u001b[0;34m\u001b[0m\u001b[0;34m\u001b[0m\u001b[0m\n\u001b[1;32m    403\u001b[0m                 \u001b[0;31m# Break a reference cycle with the exception in self._exception\u001b[0m\u001b[0;34m\u001b[0m\u001b[0;34m\u001b[0m\u001b[0m\n",
            "\u001b[0;32m/usr/lib/python3.11/concurrent/futures/thread.py\u001b[0m in \u001b[0;36mrun\u001b[0;34m(self)\u001b[0m\n\u001b[1;32m     56\u001b[0m \u001b[0;34m\u001b[0m\u001b[0m\n\u001b[1;32m     57\u001b[0m         \u001b[0;32mtry\u001b[0m\u001b[0;34m:\u001b[0m\u001b[0;34m\u001b[0m\u001b[0;34m\u001b[0m\u001b[0m\n\u001b[0;32m---> 58\u001b[0;31m             \u001b[0mresult\u001b[0m \u001b[0;34m=\u001b[0m \u001b[0mself\u001b[0m\u001b[0;34m.\u001b[0m\u001b[0mfn\u001b[0m\u001b[0;34m(\u001b[0m\u001b[0;34m*\u001b[0m\u001b[0mself\u001b[0m\u001b[0;34m.\u001b[0m\u001b[0margs\u001b[0m\u001b[0;34m,\u001b[0m \u001b[0;34m**\u001b[0m\u001b[0mself\u001b[0m\u001b[0;34m.\u001b[0m\u001b[0mkwargs\u001b[0m\u001b[0;34m)\u001b[0m\u001b[0;34m\u001b[0m\u001b[0;34m\u001b[0m\u001b[0m\n\u001b[0m\u001b[1;32m     59\u001b[0m         \u001b[0;32mexcept\u001b[0m \u001b[0mBaseException\u001b[0m \u001b[0;32mas\u001b[0m \u001b[0mexc\u001b[0m\u001b[0;34m:\u001b[0m\u001b[0;34m\u001b[0m\u001b[0;34m\u001b[0m\u001b[0m\n\u001b[1;32m     60\u001b[0m             \u001b[0mself\u001b[0m\u001b[0;34m.\u001b[0m\u001b[0mfuture\u001b[0m\u001b[0;34m.\u001b[0m\u001b[0mset_exception\u001b[0m\u001b[0;34m(\u001b[0m\u001b[0mexc\u001b[0m\u001b[0;34m)\u001b[0m\u001b[0;34m\u001b[0m\u001b[0;34m\u001b[0m\u001b[0m\n",
            "\u001b[0;32m/usr/local/lib/python3.11/dist-packages/langgraph/checkpoint/memory/__init__.py\u001b[0m in \u001b[0;36mput_writes\u001b[0;34m(self, config, writes, task_id, task_path)\u001b[0m\n\u001b[1;32m    446\u001b[0m                 \u001b[0mtask_id\u001b[0m\u001b[0;34m,\u001b[0m\u001b[0;34m\u001b[0m\u001b[0;34m\u001b[0m\u001b[0m\n\u001b[1;32m    447\u001b[0m                 \u001b[0mc\u001b[0m\u001b[0;34m,\u001b[0m\u001b[0;34m\u001b[0m\u001b[0;34m\u001b[0m\u001b[0m\n\u001b[0;32m--> 448\u001b[0;31m                 \u001b[0mself\u001b[0m\u001b[0;34m.\u001b[0m\u001b[0mserde\u001b[0m\u001b[0;34m.\u001b[0m\u001b[0mdumps_typed\u001b[0m\u001b[0;34m(\u001b[0m\u001b[0mv\u001b[0m\u001b[0;34m)\u001b[0m\u001b[0;34m,\u001b[0m\u001b[0;34m\u001b[0m\u001b[0;34m\u001b[0m\u001b[0m\n\u001b[0m\u001b[1;32m    449\u001b[0m                 \u001b[0mtask_path\u001b[0m\u001b[0;34m,\u001b[0m\u001b[0;34m\u001b[0m\u001b[0;34m\u001b[0m\u001b[0m\n\u001b[1;32m    450\u001b[0m             )\n",
            "\u001b[0;32m/usr/local/lib/python3.11/dist-packages/langgraph/checkpoint/serde/jsonplus.py\u001b[0m in \u001b[0;36mdumps_typed\u001b[0;34m(self, obj)\u001b[0m\n\u001b[1;32m    205\u001b[0m                 \u001b[0;32mif\u001b[0m \u001b[0;34m\"valid UTF-8\"\u001b[0m \u001b[0;32min\u001b[0m \u001b[0mstr\u001b[0m\u001b[0;34m(\u001b[0m\u001b[0mexc\u001b[0m\u001b[0;34m)\u001b[0m\u001b[0;34m:\u001b[0m\u001b[0;34m\u001b[0m\u001b[0;34m\u001b[0m\u001b[0m\n\u001b[1;32m    206\u001b[0m                     \u001b[0;32mreturn\u001b[0m \u001b[0;34m\"json\"\u001b[0m\u001b[0;34m,\u001b[0m \u001b[0mself\u001b[0m\u001b[0;34m.\u001b[0m\u001b[0mdumps\u001b[0m\u001b[0;34m(\u001b[0m\u001b[0mobj\u001b[0m\u001b[0;34m)\u001b[0m\u001b[0;34m\u001b[0m\u001b[0;34m\u001b[0m\u001b[0m\n\u001b[0;32m--> 207\u001b[0;31m                 \u001b[0;32mraise\u001b[0m \u001b[0mexc\u001b[0m\u001b[0;34m\u001b[0m\u001b[0;34m\u001b[0m\u001b[0m\n\u001b[0m\u001b[1;32m    208\u001b[0m \u001b[0;34m\u001b[0m\u001b[0m\n\u001b[1;32m    209\u001b[0m     \u001b[0;32mdef\u001b[0m \u001b[0mloads\u001b[0m\u001b[0;34m(\u001b[0m\u001b[0mself\u001b[0m\u001b[0;34m,\u001b[0m \u001b[0mdata\u001b[0m\u001b[0;34m:\u001b[0m \u001b[0mbytes\u001b[0m\u001b[0;34m)\u001b[0m \u001b[0;34m->\u001b[0m \u001b[0mAny\u001b[0m\u001b[0;34m:\u001b[0m\u001b[0;34m\u001b[0m\u001b[0;34m\u001b[0m\u001b[0m\n",
            "\u001b[0;32m/usr/local/lib/python3.11/dist-packages/langgraph/checkpoint/serde/jsonplus.py\u001b[0m in \u001b[0;36mdumps_typed\u001b[0;34m(self, obj)\u001b[0m\n\u001b[1;32m    201\u001b[0m         \u001b[0;32melse\u001b[0m\u001b[0;34m:\u001b[0m\u001b[0;34m\u001b[0m\u001b[0;34m\u001b[0m\u001b[0m\n\u001b[1;32m    202\u001b[0m             \u001b[0;32mtry\u001b[0m\u001b[0;34m:\u001b[0m\u001b[0;34m\u001b[0m\u001b[0;34m\u001b[0m\u001b[0m\n\u001b[0;32m--> 203\u001b[0;31m                 \u001b[0;32mreturn\u001b[0m \u001b[0;34m\"msgpack\"\u001b[0m\u001b[0;34m,\u001b[0m \u001b[0m_msgpack_enc\u001b[0m\u001b[0;34m(\u001b[0m\u001b[0mobj\u001b[0m\u001b[0;34m)\u001b[0m\u001b[0;34m\u001b[0m\u001b[0;34m\u001b[0m\u001b[0m\n\u001b[0m\u001b[1;32m    204\u001b[0m             \u001b[0;32mexcept\u001b[0m \u001b[0mormsgpack\u001b[0m\u001b[0;34m.\u001b[0m\u001b[0mMsgpackEncodeError\u001b[0m \u001b[0;32mas\u001b[0m \u001b[0mexc\u001b[0m\u001b[0;34m:\u001b[0m\u001b[0;34m\u001b[0m\u001b[0;34m\u001b[0m\u001b[0m\n\u001b[1;32m    205\u001b[0m                 \u001b[0;32mif\u001b[0m \u001b[0;34m\"valid UTF-8\"\u001b[0m \u001b[0;32min\u001b[0m \u001b[0mstr\u001b[0m\u001b[0;34m(\u001b[0m\u001b[0mexc\u001b[0m\u001b[0;34m)\u001b[0m\u001b[0;34m:\u001b[0m\u001b[0;34m\u001b[0m\u001b[0;34m\u001b[0m\u001b[0m\n",
            "\u001b[0;32m/usr/local/lib/python3.11/dist-packages/langgraph/checkpoint/serde/jsonplus.py\u001b[0m in \u001b[0;36m_msgpack_enc\u001b[0;34m(data)\u001b[0m\n\u001b[1;32m    621\u001b[0m \u001b[0;34m\u001b[0m\u001b[0m\n\u001b[1;32m    622\u001b[0m \u001b[0;32mdef\u001b[0m \u001b[0m_msgpack_enc\u001b[0m\u001b[0;34m(\u001b[0m\u001b[0mdata\u001b[0m\u001b[0;34m:\u001b[0m \u001b[0mAny\u001b[0m\u001b[0;34m)\u001b[0m \u001b[0;34m->\u001b[0m \u001b[0mbytes\u001b[0m\u001b[0;34m:\u001b[0m\u001b[0;34m\u001b[0m\u001b[0;34m\u001b[0m\u001b[0m\n\u001b[0;32m--> 623\u001b[0;31m     \u001b[0;32mreturn\u001b[0m \u001b[0mormsgpack\u001b[0m\u001b[0;34m.\u001b[0m\u001b[0mpackb\u001b[0m\u001b[0;34m(\u001b[0m\u001b[0mdata\u001b[0m\u001b[0;34m,\u001b[0m \u001b[0mdefault\u001b[0m\u001b[0;34m=\u001b[0m\u001b[0m_msgpack_default\u001b[0m\u001b[0;34m,\u001b[0m \u001b[0moption\u001b[0m\u001b[0;34m=\u001b[0m\u001b[0m_option\u001b[0m\u001b[0;34m)\u001b[0m\u001b[0;34m\u001b[0m\u001b[0;34m\u001b[0m\u001b[0m\n\u001b[0m",
            "\u001b[0;31mTypeError\u001b[0m: Type is not msgpack serializable: DataFrame"
          ]
        }
      ]
    },
    {
      "cell_type": "code",
      "source": [
        "from IPython.display import Image, display\n",
        "\n",
        "display(Image(graph.get_graph().draw_mermaid_png()))"
      ],
      "metadata": {
        "id": "-PPiAPFeT3rm"
      },
      "execution_count": null,
      "outputs": []
    },
    {
      "cell_type": "code",
      "source": [
        "import datetime\n",
        "\n",
        "def chat(question: str) -> Dict[str, Any]:\n",
        "    memory = MemorySaver()\n",
        "    thread_id = f\"session_{datetime}\"\n",
        "    #graph = workflow.compile(checkpointer=memory)\n",
        "    graph = workflow.compile()\n",
        "\n",
        "    results = {}\n",
        "    for step in graph.stream(\n",
        "        {\"question\": question},\n",
        "        config={\"configurable\": {\"thread_id\": thread_id}}\n",
        "    ):\n",
        "        results.update(step)\n",
        "\n",
        "    return results"
      ],
      "metadata": {
        "id": "0-_TW-a2UCB5"
      },
      "execution_count": 128,
      "outputs": []
    },
    {
      "cell_type": "code",
      "source": [
        "chat(query_19)"
      ],
      "metadata": {
        "colab": {
          "base_uri": "https://localhost:8080/"
        },
        "id": "Vs_7ePkgWRQs",
        "outputId": "0f168ada-3161-4f84-8df5-0bbdec89089f"
      },
      "execution_count": 130,
      "outputs": [
        {
          "output_type": "stream",
          "name": "stdout",
          "text": [
            "Dataframe saved to SQLite : \n",
            "* Database: itops.db\n",
            "* Table: itops_table\n",
            "\n",
            "SQLite URI : \n",
            "* sqlite:///itops.db\n"
          ]
        },
        {
          "output_type": "execute_result",
          "data": {
            "text/plain": [
              "{'write_query': {'query': \"SELECT operation_id, operation_date, operation_application, operation_leader, operation_project, operation_techno, operation_title, operation_status FROM itops_table WHERE operation_leader = '0x Zee' AND operation_date > '2024-06-30' AND operation_status = 'OK' ORDER BY operation_date DESC LIMIT 99\"},\n",
              " 'execute_query': {'result':   operation_id       operation_date operation_application operation_leader  \\\n",
              "  0      MEP_251  2024-12-15 00:00:00            App_market           0x Zee   \n",
              "  1      MEP_211  2024-12-05 00:00:00                App_RH           0x Zee   \n",
              "  2      MEP_261  2024-10-20 00:00:00            App_market           0x Zee   \n",
              "  3      MEP_221  2024-10-15 00:00:00         App_customers           0x Zee   \n",
              "  4      MEP_106  2024-08-05 00:00:00             App_venus           0x Zee   \n",
              "  5      MEP_102  2024-07-15 00:00:00            App_market           0x Zee   \n",
              "  \n",
              "    operation_project operation_techno             operation_title  \\\n",
              "  0          [RESEAU]         [ROUTER]        Routage Dynamique V2   \n",
              "  1             [MCO]     [ALMA-Linux]     Migration ALMA Critical   \n",
              "  2             [MCO]            [DNS]            DNS Cloud Native   \n",
              "  3         [SYSTEME]         [VMWARE]        VMware Critical Apps   \n",
              "  4         [SYSTEME]            [K8S]         Déploiement K8S Dev   \n",
              "  5          [RESEAU]       [FIREWALL]  Update Security Datacenter   \n",
              "  \n",
              "    operation_status  \n",
              "  0               OK  \n",
              "  1               OK  \n",
              "  2               OK  \n",
              "  3               OK  \n",
              "  4               OK  \n",
              "  5               OK  },\n",
              " 'generate_answer': {'answer': 'Voici la liste des opérations menées par 0x Zee après le mois de juin 2024 avec statut OK :\\n\\n- MEP_251 : 2024-12-15, App_market, Routage Dynamique V2\\n- MEP_211 : 2024-12-05, App_RH, Migration ALMA Critical\\n- MEP_261 : 2024-10-20, App_market, DNS Cloud Native\\n- MEP_221 : 2024-10-15, App_customers, VMware Critical Apps\\n- MEP_106 : 2024-08-05, App_venus, Déploiement K8S Dev'}}"
            ]
          },
          "metadata": {},
          "execution_count": 130
        }
      ]
    },
    {
      "cell_type": "code",
      "source": [
        "agentops.end_session(\"success\")"
      ],
      "metadata": {
        "id": "ekrpweN-tf0C"
      },
      "execution_count": null,
      "outputs": []
    }
  ]
}